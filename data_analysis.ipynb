{
 "cells": [
  {
   "cell_type": "code",
   "execution_count": 1,
   "id": "776538ed",
   "metadata": {},
   "outputs": [],
   "source": [
    "import numpy as np\n",
    "import pandas as pd\n",
    "import h5py"
   ]
  },
  {
   "cell_type": "code",
   "execution_count": 2,
   "id": "bd6a365d",
   "metadata": {},
   "outputs": [],
   "source": [
    "import flammkuchen as fl"
   ]
  },
  {
   "cell_type": "markdown",
   "id": "47ab1c84",
   "metadata": {},
   "source": [
    "## Documentation for Data from Moseq:\n",
    "\n",
    "\n",
    "- *syllables_seq_data* that contains a dictionary of data. \n",
    "\n",
    "        - dictionary keys are the source filenames for the original DLC data (basically, an experimental session);\n",
    "        - entries are dictionaries containing various quantities extracted by MPMoseq, including syllable sequence\n",
    "\n",
    "- *syllableraw_data* contains the raw coordinates for all syllables - aka, what we should be using for soft clustering. \n",
    "\n",
    "        - This is actually very row data: (N x T x K x S) arrays, with N=n. of syllables, T= n. of timepoints (20),\n",
    "        - K= n. of tracked points (11), S=n. of spatial dimensions (2). \n",
    "        - What they do for the embedding is simple PCA; if the data is too large, PCs can be computed on a subset of the data\n",
    "\n",
    "\n",
    "- *index* contains for every element in syllableraw_data.hdf5 the file and the index where the entry in the array occurred"
   ]
  },
  {
   "cell_type": "markdown",
   "id": "dc19186f",
   "metadata": {},
   "source": [
    "## Approach Without GMM:"
   ]
  },
  {
   "cell_type": "code",
   "execution_count": 3,
   "id": "8897fabf",
   "metadata": {},
   "outputs": [],
   "source": [
    "syllableraw_data = fl.load('../thomas_data/syllableraw_data.hdf5')\n",
    "syllables_seq_data = fl.load('../thomas_data/syllables_sequences.hdf5')\n",
    "index = fl.load('../thomas_data/indexes.hdf5')"
   ]
  },
  {
   "cell_type": "code",
   "execution_count": 6,
   "id": "9175b71b",
   "metadata": {},
   "outputs": [
    {
     "data": {
      "text/plain": [
       "(7, 2, 2)"
      ]
     },
     "execution_count": 6,
     "metadata": {},
     "output_type": "execute_result"
    }
   ],
   "source": [
    "example = np.load('../GMM/toy_covars.npy')\n",
    "\n",
    "example.shape"
   ]
  },
  {
   "cell_type": "code",
   "execution_count": 55,
   "id": "15b350b5",
   "metadata": {
    "scrolled": true
   },
   "outputs": [],
   "source": [
    "\n",
    "def get_array(data_dict):\n",
    "    pre_pca = {}\n",
    "    ar = []\n",
    "    for label, data in data_dict.items():\n",
    "        n, time_points, tracked_points, spatial_dims = data.shape\n",
    "        \n",
    "        # Reshape data to combine time points, tracked points, and spatial dimensions\n",
    "        reshaped_data = data.reshape(n, time_points * tracked_points * spatial_dims)\n",
    "        pre_pca[label] = reshaped_data\n",
    "    return pre_pca\n",
    "\n",
    "prepca = get_array(syllableraw_data)"
   ]
  },
  {
   "cell_type": "code",
   "execution_count": 79,
   "id": "24d842ed",
   "metadata": {},
   "outputs": [
    {
     "data": {
      "text/html": [
       "<style>#sk-container-id-10 {color: black;background-color: white;}#sk-container-id-10 pre{padding: 0;}#sk-container-id-10 div.sk-toggleable {background-color: white;}#sk-container-id-10 label.sk-toggleable__label {cursor: pointer;display: block;width: 100%;margin-bottom: 0;padding: 0.3em;box-sizing: border-box;text-align: center;}#sk-container-id-10 label.sk-toggleable__label-arrow:before {content: \"▸\";float: left;margin-right: 0.25em;color: #696969;}#sk-container-id-10 label.sk-toggleable__label-arrow:hover:before {color: black;}#sk-container-id-10 div.sk-estimator:hover label.sk-toggleable__label-arrow:before {color: black;}#sk-container-id-10 div.sk-toggleable__content {max-height: 0;max-width: 0;overflow: hidden;text-align: left;background-color: #f0f8ff;}#sk-container-id-10 div.sk-toggleable__content pre {margin: 0.2em;color: black;border-radius: 0.25em;background-color: #f0f8ff;}#sk-container-id-10 input.sk-toggleable__control:checked~div.sk-toggleable__content {max-height: 200px;max-width: 100%;overflow: auto;}#sk-container-id-10 input.sk-toggleable__control:checked~label.sk-toggleable__label-arrow:before {content: \"▾\";}#sk-container-id-10 div.sk-estimator input.sk-toggleable__control:checked~label.sk-toggleable__label {background-color: #d4ebff;}#sk-container-id-10 div.sk-label input.sk-toggleable__control:checked~label.sk-toggleable__label {background-color: #d4ebff;}#sk-container-id-10 input.sk-hidden--visually {border: 0;clip: rect(1px 1px 1px 1px);clip: rect(1px, 1px, 1px, 1px);height: 1px;margin: -1px;overflow: hidden;padding: 0;position: absolute;width: 1px;}#sk-container-id-10 div.sk-estimator {font-family: monospace;background-color: #f0f8ff;border: 1px dotted black;border-radius: 0.25em;box-sizing: border-box;margin-bottom: 0.5em;}#sk-container-id-10 div.sk-estimator:hover {background-color: #d4ebff;}#sk-container-id-10 div.sk-parallel-item::after {content: \"\";width: 100%;border-bottom: 1px solid gray;flex-grow: 1;}#sk-container-id-10 div.sk-label:hover label.sk-toggleable__label {background-color: #d4ebff;}#sk-container-id-10 div.sk-serial::before {content: \"\";position: absolute;border-left: 1px solid gray;box-sizing: border-box;top: 0;bottom: 0;left: 50%;z-index: 0;}#sk-container-id-10 div.sk-serial {display: flex;flex-direction: column;align-items: center;background-color: white;padding-right: 0.2em;padding-left: 0.2em;position: relative;}#sk-container-id-10 div.sk-item {position: relative;z-index: 1;}#sk-container-id-10 div.sk-parallel {display: flex;align-items: stretch;justify-content: center;background-color: white;position: relative;}#sk-container-id-10 div.sk-item::before, #sk-container-id-10 div.sk-parallel-item::before {content: \"\";position: absolute;border-left: 1px solid gray;box-sizing: border-box;top: 0;bottom: 0;left: 50%;z-index: -1;}#sk-container-id-10 div.sk-parallel-item {display: flex;flex-direction: column;z-index: 1;position: relative;background-color: white;}#sk-container-id-10 div.sk-parallel-item:first-child::after {align-self: flex-end;width: 50%;}#sk-container-id-10 div.sk-parallel-item:last-child::after {align-self: flex-start;width: 50%;}#sk-container-id-10 div.sk-parallel-item:only-child::after {width: 0;}#sk-container-id-10 div.sk-dashed-wrapped {border: 1px dashed gray;margin: 0 0.4em 0.5em 0.4em;box-sizing: border-box;padding-bottom: 0.4em;background-color: white;}#sk-container-id-10 div.sk-label label {font-family: monospace;font-weight: bold;display: inline-block;line-height: 1.2em;}#sk-container-id-10 div.sk-label-container {text-align: center;}#sk-container-id-10 div.sk-container {/* jupyter's `normalize.less` sets `[hidden] { display: none; }` but bootstrap.min.css set `[hidden] { display: none !important; }` so we also need the `!important` here to be able to override the default hidden behavior on the sphinx rendered scikit-learn.org. See: https://github.com/scikit-learn/scikit-learn/issues/21755 */display: inline-block !important;position: relative;}#sk-container-id-10 div.sk-text-repr-fallback {display: none;}</style><div id=\"sk-container-id-10\" class=\"sk-top-container\"><div class=\"sk-text-repr-fallback\"><pre>PCA(n_components=0.85)</pre><b>In a Jupyter environment, please rerun this cell to show the HTML representation or trust the notebook. <br />On GitHub, the HTML representation is unable to render, please try loading this page with nbviewer.org.</b></div><div class=\"sk-container\" hidden><div class=\"sk-item\"><div class=\"sk-estimator sk-toggleable\"><input class=\"sk-toggleable__control sk-hidden--visually\" id=\"sk-estimator-id-10\" type=\"checkbox\" checked><label for=\"sk-estimator-id-10\" class=\"sk-toggleable__label sk-toggleable__label-arrow\">PCA</label><div class=\"sk-toggleable__content\"><pre>PCA(n_components=0.85)</pre></div></div></div></div></div>"
      ],
      "text/plain": [
       "PCA(n_components=0.85)"
      ]
     },
     "execution_count": 79,
     "metadata": {},
     "output_type": "execute_result"
    }
   ],
   "source": [
    "from sklearn.decomposition import PCA\n",
    "from sklearn.preprocessing import MinMaxScaler\n",
    "\n",
    "\n",
    "scaler = MinMaxScaler()\n",
    "\n",
    "\n",
    "pca = PCA(n_components=0.85)\n",
    "data = scaler.fit_transform(prepca[3])\n",
    "pca.fit(data)"
   ]
  },
  {
   "cell_type": "code",
   "execution_count": 86,
   "id": "6bfdf679",
   "metadata": {},
   "outputs": [],
   "source": [
    "n_components = []\n",
    "for key, value in prepca.items():\n",
    "    pca = PCA(n_components=14)\n",
    "    data = scaler.fit_transform(value)\n",
    "    pca.fit(data)\n",
    "    n_components.append(pca.explained_variance_ratio_)\n",
    "    \n",
    "    \n"
   ]
  },
  {
   "cell_type": "code",
   "execution_count": 104,
   "id": "ce45f667",
   "metadata": {},
   "outputs": [],
   "source": [
    "import numpy as np\n",
    "from sklearn.preprocessing import StandardScaler\n",
    "from sklearn.decomposition import PCA\n",
    "\n",
    "def compute_pca_mean_and_covariance(data_dict, n_components=14):\n",
    "    pca_means = {}\n",
    "    pca_covariance_matrices = {}\n",
    "    \n",
    "    for label, data in data_dict.items():\n",
    "        # Standardize the data\n",
    "        scaler = StandardScaler()\n",
    "        standardized_data = scaler.fit_transform(data)\n",
    "        \n",
    "        # Apply PCA\n",
    "        pca = PCA(n_components=n_components)\n",
    "        reduced_data = pca.fit_transform(standardized_data)\n",
    "        \n",
    "        # Compute mean vector on the reduced data\n",
    "        mean_vector = np.mean(reduced_data, axis=0)\n",
    "        pca_means[label] = mean_vector\n",
    "        \n",
    "        # Compute covariance matrix on the reduced data\n",
    "        covariance_matrix = np.cov(reduced_data, rowvar=False)\n",
    "        pca_covariance_matrices[label] = covariance_matrix\n",
    "    \n",
    "    return pca_means, pca_covariance_matrices\n",
    "\n",
    "pca_cov_matrices, pca_means = compute_pca_mean_and_covariance(prepca, n_components=14)\n"
   ]
  },
  {
   "cell_type": "code",
   "execution_count": 105,
   "id": "b7ced317",
   "metadata": {},
   "outputs": [
    {
     "data": {
      "text/plain": [
       "(25, 14)"
      ]
     },
     "execution_count": 105,
     "metadata": {},
     "output_type": "execute_result"
    }
   ],
   "source": [
    "moseq_covs = []\n",
    "for key, value in pca_cov_matrices.items():\n",
    "    \n",
    "    moseq_covs.append(value)\n",
    "moseq_covs = np.asanyarray(moseq_covs)\n",
    "moseq_covs.shape"
   ]
  },
  {
   "cell_type": "code",
   "execution_count": 106,
   "id": "8fde57a4",
   "metadata": {},
   "outputs": [],
   "source": [
    "np.save('../GMM/moseqf0_covars.npy', moseq_covs)"
   ]
  },
  {
   "cell_type": "code",
   "execution_count": 108,
   "id": "40fe80ce",
   "metadata": {},
   "outputs": [],
   "source": [
    "moseq_means = []\n",
    "\n",
    "for key, value in pca_means.items():\n",
    "    moseq_means.append(value)\n",
    "moseq_means = np.asanyarray(moseq_means)\n",
    "\n",
    "np.save('../GMM/moseqf0_means.npy', moseq_means)"
   ]
  },
  {
   "cell_type": "code",
   "execution_count": 44,
   "id": "5d4dcbe7",
   "metadata": {},
   "outputs": [
    {
     "data": {
      "text/plain": [
       "1.0000000000000002"
      ]
     },
     "execution_count": 44,
     "metadata": {},
     "output_type": "execute_result"
    }
   ],
   "source": [
    "weights = np.load('../GMM/toy_weights.npy')\n",
    "\n",
    "weights[0].sum() # how to get them: "
   ]
  },
  {
   "cell_type": "code",
   "execution_count": 50,
   "id": "4e151865",
   "metadata": {},
   "outputs": [],
   "source": [
    "exp1 = syllables_seq_data['Ctrl1_d1DLC_resnet50_r2_below-camera_paws-spineFeb2shuffle1_100000']"
   ]
  },
  {
   "cell_type": "code",
   "execution_count": 53,
   "id": "219786f3",
   "metadata": {},
   "outputs": [
    {
     "data": {
      "text/plain": [
       "38"
      ]
     },
     "execution_count": 53,
     "metadata": {},
     "output_type": "execute_result"
    }
   ],
   "source": [
    "len(np.unique(exp1['syllable']))"
   ]
  },
  {
   "cell_type": "code",
   "execution_count": 52,
   "id": "ae5fd82f",
   "metadata": {},
   "outputs": [
    {
     "data": {
      "text/plain": [
       "25"
      ]
     },
     "execution_count": 52,
     "metadata": {},
     "output_type": "execute_result"
    }
   ],
   "source": [
    "len(syllableraw_data)"
   ]
  },
  {
   "cell_type": "code",
   "execution_count": 11,
   "id": "b4387c41",
   "metadata": {},
   "outputs": [
    {
     "data": {
      "text/plain": [
       "dict_keys(['centroid', 'heading', 'latent_state', 'syllable', 'type'])"
      ]
     },
     "execution_count": 11,
     "metadata": {},
     "output_type": "execute_result"
    }
   ],
   "source": [
    "syllable_seq_data['Ctrl1_d1DLC_resnet50_r2_below-camera_paws-spineFeb2shuffle1_100000'].keys()"
   ]
  },
  {
   "cell_type": "code",
   "execution_count": 14,
   "id": "26a4980d",
   "metadata": {
    "scrolled": true
   },
   "outputs": [
    {
     "data": {
      "text/plain": [
       "(45588,)"
      ]
     },
     "execution_count": 14,
     "metadata": {},
     "output_type": "execute_result"
    }
   ],
   "source": [
    "syllables_seq_data['Ctrl1_d1DLC_resnet50_r2_below-camera_paws-spineFeb2shuffle1_100000']['syllable'].shape"
   ]
  },
  {
   "cell_type": "code",
   "execution_count": 33,
   "id": "6ccca5c2",
   "metadata": {},
   "outputs": [
    {
     "name": "stdout",
     "output_type": "stream",
     "text": [
      "(7, 2, 2)\n",
      "(7, 2)\n",
      "(3, 7)\n"
     ]
    }
   ],
   "source": [
    "toy_cov = np.load('../GMM/toy_covars.npy')\n",
    "toy_means = np.load('../GMM/toy_means.npy')\n",
    "toy_weights = np.load('../GMM/toy_weights.npy')\n",
    "\n",
    "print(toy_cov.shape)\n",
    "print(toy_means.shape)\n",
    "print(toy_weights.shape)"
   ]
  },
  {
   "cell_type": "markdown",
   "id": "d2e27ef8",
   "metadata": {},
   "source": [
    "So now we are trying to extract the values directly from mosew without using the GMM model. First I have checked how they are structered and we should obtain a covariance matrix of the following shape: n_labels x dimensions x 2\n",
    "Then the mean values: n_labels x dimensions\n",
    "then weigths: ? x lables"
   ]
  },
  {
   "cell_type": "markdown",
   "id": "b7492aa2",
   "metadata": {},
   "source": [
    "Here we construct the training data, from the first experimental condition. We need a npy file of n(data points) x m(features) in this case we are using just the PCAs and not other features. "
   ]
  },
  {
   "cell_type": "code",
   "execution_count": 45,
   "id": "67b01cc2",
   "metadata": {},
   "outputs": [
    {
     "name": "stdout",
     "output_type": "stream",
     "text": [
      "Training data shape: (45588, 8)\n"
     ]
    }
   ],
   "source": [
    "condition_key = 'Ctrl1_d1DLC_resnet50_r2_below-camera_paws-spineFeb2shuffle1_100000'\n",
    "condition_data = syllables_seq_data[condition_key]\n",
    "\n",
    "\n",
    "training_data = []\n",
    "\n",
    "\n",
    "for entry in condition_data['latent_state']:\n",
    "    latent_state = entry  \n",
    "    training_data.append(latent_state)\n",
    "\n",
    "\n",
    "training_data_array = np.array(training_data)\n",
    "\n",
    "print(\"Training data shape:\", training_data_array.shape) \n",
    "\n",
    "np.save('../Data/train_dataset_condition0.npy', training_data_array)"
   ]
  },
  {
   "cell_type": "code",
   "execution_count": 49,
   "id": "53ef6313",
   "metadata": {},
   "outputs": [],
   "source": [
    "lengths = np.array([45588])\n",
    "np.save('../Data/train_lengths_condition0.npy', lengths)"
   ]
  },
  {
   "cell_type": "markdown",
   "id": "4caf2a95",
   "metadata": {},
   "source": [
    "With this approach I get the following error: \n",
    "\n",
    "(bass-iit-env)  thomasbush@MBP-di-thomas  ~/BASS   master ±  python run_bass.py -c 0 -dN train -gN train -x train\n",
    "Traceback (most recent call last):\n",
    "  File \"/Users/thomasbush/BASS/run_bass.py\", line 100, in <module>\n",
    "    main(args)\n",
    "  File \"/Users/thomasbush/BASS/run_bass.py\", line 50, in main\n",
    "    H = -model_fit.score(data_flat,args.Condition)/len(data_flat) #entropy\n",
    "  File \"/Users/thomasbush/BASS/./BASS/GMM.py\", line 129, in score\n",
    "    temp += self.weights_[set_index,k]*stats.multivariate_normal.pdf(dataset,mean = self.means_[k],cov = self.covars_[k])\n",
    "  File \"/Users/thomasbush/miniconda3/envs/bass-iit-env/lib/python3.9/site-packages/scipy/stats/_multivariate.py\", line 587, in pdf\n",
    "    out = np.exp(self._logpdf(x, mean, cov_object))\n",
    "  File \"/Users/thomasbush/miniconda3/envs/bass-iit-env/lib/python3.9/site-packages/scipy/stats/_multivariate.py\", line 530, in _logpdf\n",
    "    dev = x - mean\n",
    "ValueError: operands could not be broadcast together with shapes (45588,8) (440,)"
   ]
  },
  {
   "cell_type": "markdown",
   "id": "3ec6e888",
   "metadata": {},
   "source": [
    "## Data Exploration and Data Used with the GMM (Still messy)"
   ]
  },
  {
   "cell_type": "code",
   "execution_count": 52,
   "id": "b31e6ccb",
   "metadata": {
    "scrolled": true
   },
   "outputs": [
    {
     "name": "stdout",
     "output_type": "stream",
     "text": [
      "dict_keys([0, 1, 2, 3, 4, 5, 6, 7, 8, 9, 10, 11, 12, 13, 14, 15, 16, 18, 19, 20, 21, 22, 23, 24, 25])\n",
      "(19924, 20, 11, 2)\n",
      "(15815, 20, 11, 2)\n",
      "(11503, 20, 11, 2)\n",
      "(10217, 20, 11, 2)\n",
      "(6635, 20, 11, 2)\n",
      "(5658, 20, 11, 2)\n",
      "(2954, 20, 11, 2)\n",
      "(5819, 20, 11, 2)\n",
      "(4966, 20, 11, 2)\n",
      "(4230, 20, 11, 2)\n",
      "(3682, 20, 11, 2)\n",
      "(4002, 20, 11, 2)\n",
      "(4630, 20, 11, 2)\n",
      "(1904, 20, 11, 2)\n",
      "(2889, 20, 11, 2)\n",
      "(3085, 20, 11, 2)\n",
      "(4115, 20, 11, 2)\n",
      "(1693, 20, 11, 2)\n",
      "(1895, 20, 11, 2)\n",
      "(1585, 20, 11, 2)\n",
      "(1587, 20, 11, 2)\n",
      "(1280, 20, 11, 2)\n",
      "(942, 20, 11, 2)\n",
      "(1634, 20, 11, 2)\n",
      "(883, 20, 11, 2)\n"
     ]
    }
   ],
   "source": [
    "keys_syl = syllableraw_data.keys()\n",
    "print(keys_syl)\n",
    "\n",
    "for k, v in syllableraw_data.items():\n",
    "    print(v.shape)"
   ]
  },
  {
   "cell_type": "code",
   "execution_count": 89,
   "id": "23946462",
   "metadata": {},
   "outputs": [
    {
     "data": {
      "text/plain": [
       "('Ctrl1_d1DLC_resnet50_r2_below-camera_paws-spineFeb2shuffle1_100000',\n",
       " 536,\n",
       " 544)"
      ]
     },
     "execution_count": 89,
     "metadata": {},
     "output_type": "execute_result"
    }
   ],
   "source": [
    "key_ind = index_data.keys()\n",
    "\n",
    "index_data[1][0]"
   ]
  },
  {
   "cell_type": "code",
   "execution_count": 7,
   "id": "bc42bfe3",
   "metadata": {},
   "outputs": [],
   "source": [
    "i = x.keys()\n",
    "    "
   ]
  },
  {
   "cell_type": "code",
   "execution_count": 8,
   "id": "b4644636",
   "metadata": {},
   "outputs": [
    {
     "data": {
      "text/plain": [
       "array([21, 21, 21, ...,  0,  0,  0])"
      ]
     },
     "execution_count": 8,
     "metadata": {},
     "output_type": "execute_result"
    }
   ],
   "source": [
    "x['syllable']"
   ]
  },
  {
   "cell_type": "code",
   "execution_count": 9,
   "id": "0b3f20dc",
   "metadata": {},
   "outputs": [
    {
     "name": "stdout",
     "output_type": "stream",
     "text": [
      "(45588, 2)\n",
      "(45588,)\n",
      "(45588, 8)\n",
      "(45588,)\n",
      "()\n"
     ]
    }
   ],
   "source": [
    "for n in i:\n",
    "    print(x[n].shape)"
   ]
  },
  {
   "cell_type": "markdown",
   "id": "1c8f1092",
   "metadata": {},
   "source": [
    "So in this case we have for the syllable '0': \n",
    "\n",
    "- 199924: \n",
    "- 20: \n",
    "- 11: \n",
    "- 2: "
   ]
  },
  {
   "cell_type": "code",
   "execution_count": 10,
   "id": "a9db6ea6",
   "metadata": {},
   "outputs": [
    {
     "data": {
      "text/plain": [
       "(45588,)"
      ]
     },
     "execution_count": 10,
     "metadata": {},
     "output_type": "execute_result"
    }
   ],
   "source": [
    "syllable_seq_data['# Example features for condition 0\n",
    "condition0_features = syllable_seq_data['Ctrl1_d1DLC_resnet50_r2_below-camera_paws-spineFeb2shuffle1_100000']\n",
    "\n",
    "\n",
    "centroid = condition0_features['centroid']\n",
    "heading = condition0_features['heading']\n",
    "latent_state = condition0_features['latent_state']\n",
    "syllable = condition0_features['syllable']\n",
    "type_ = condition0_features['type']\n",
    "\n",
    "\n",
    "condition0_dataset = np.column_stack((centroid, heading, latent_state, syllable))\n",
    "\n",
    "np.save('moseq_dataset_condition0.npy', condition0_dataset)\n",
    "\n",
    "\n",
    "condition1_dataset = np.column_stack((centroid, heading, latent_state, syllable)) # Replace with actual condition 1 data\n",
    "\n",
    "\n",
    "np.save('moseq_dataset_condition1.npy', condition1_dataset)\n",
    "']['syllable'].shape"
   ]
  },
  {
   "cell_type": "code",
   "execution_count": 11,
   "id": "c90e0fe1",
   "metadata": {},
   "outputs": [
    {
     "data": {
      "text/plain": [
       "dict_keys([0, 1, 2, 3, 4, 5, 6, 7, 8, 9, 10, 11, 12, 13, 14, 15, 16, 18, 19, 20, 21, 22, 23, 24, 25])"
      ]
     },
     "execution_count": 11,
     "metadata": {},
     "output_type": "execute_result"
    }
   ],
   "source": [
    "index_data.keys()"
   ]
  },
  {
   "cell_type": "markdown",
   "id": "0193a3a6",
   "metadata": {},
   "source": [
    "So ideally we can use each of these as conditions:"
   ]
  },
  {
   "cell_type": "code",
   "execution_count": 19,
   "id": "602862fc",
   "metadata": {
    "format": "column",
    "scrolled": true
   },
   "outputs": [],
   "source": [
    "data_try = syllable_seq_data['Ctrl1_d1DLC_resnet50_r2_below-camera_paws-spineFeb2shuffle1_100000']"
   ]
  },
  {
   "cell_type": "code",
   "execution_count": 24,
   "id": "4e0d800d",
   "metadata": {
    "scrolled": true
   },
   "outputs": [
    {
     "name": "stdout",
     "output_type": "stream",
     "text": [
      "(45588, 2)\n",
      "(45588,)\n",
      "(45588, 8)\n",
      "(45588,)\n",
      "()\n"
     ]
    }
   ],
   "source": [
    "for key, value in data_try.items():\n",
    "    print(value.shape) # so we can see that for each syllable we have specific values for latent states, direction and positionb"
   ]
  },
  {
   "cell_type": "code",
   "execution_count": 13,
   "id": "1528927a",
   "metadata": {},
   "outputs": [],
   "source": [
    "data_toy = np.load('/Users/thomasbush/BASS/Data/toy_dataset_condition0.npy')"
   ]
  },
  {
   "cell_type": "code",
   "execution_count": 14,
   "id": "a9489159",
   "metadata": {},
   "outputs": [
    {
     "data": {
      "text/plain": [
       "(5000, 2)"
      ]
     },
     "execution_count": 14,
     "metadata": {},
     "output_type": "execute_result"
    }
   ],
   "source": [
    "data_toy.shape"
   ]
  },
  {
   "cell_type": "code",
   "execution_count": 15,
   "id": "37799445",
   "metadata": {},
   "outputs": [],
   "source": [
    "import matplotlib.pyplot as plt"
   ]
  },
  {
   "cell_type": "code",
   "execution_count": 16,
   "id": "0abf3f62",
   "metadata": {},
   "outputs": [
    {
     "data": {
      "image/png": "[encoded data removed]",
      "text/plain": [
       "<Figure size 640x480 with 1 Axes>"
      ]
     },
     "metadata": {},
     "output_type": "display_data"
    }
   ],
   "source": [
    "plt.figure()\n",
    "\n",
    "plt.plot(data_toy[:20])\n",
    "\n",
    "plt.show()"
   ]
  },
  {
   "cell_type": "markdown",
   "id": "634cf765",
   "metadata": {},
   "source": [
    "## Approach to preprare the data:"
   ]
  },
  {
   "cell_type": "code",
   "execution_count": 56,
   "id": "8d6f4b17",
   "metadata": {},
   "outputs": [],
   "source": [
    "\n",
    "\n",
    "\n",
    "condition0_features = syllable_seq_data['Ctrl1_d1DLC_resnet50_r2_below-camera_paws-spineFeb2shuffle1_100000']\n",
    "\n",
    "centroid = condition0_features['centroid']\n",
    "heading = condition0_features['heading']\n",
    "latent_state = condition0_features['latent_state']\n",
    "syllable = condition0_features['syllable']\n",
    "type_ = condition0_features['type']\n",
    "\n",
    "condition0_dataset = np.column_stack((centroid, heading, latent_state, syllable))\n",
    "\n",
    "\n",
    "np.save('moseq_dataset_condition0.npy', condition0_dataset)\n",
    "\n",
    "condition1_dataset = np.column_stack((centroid, heading, latent_state, syllable)) \n",
    "\n",
    "np.save('moseq_dataset_condition1.npy', condition1_dataset)\n"
   ]
  },
  {
   "cell_type": "code",
   "execution_count": 57,
   "id": "e2c30389",
   "metadata": {},
   "outputs": [],
   "source": [
    "moseq_d = np.load('moseq_dataset_condition1.npy')"
   ]
  },
  {
   "cell_type": "code",
   "execution_count": 105,
   "id": "593c2417",
   "metadata": {},
   "outputs": [],
   "source": [
    "cov = np.load('../GMM/toy_covars.npy')\n",
    "mean = np.load('../GMM/toy_means.npy')\n",
    "weights = np.load('../GMM/toy_weights.npy')\n",
    "\n",
    "toy = np.load('../Data/toy_dataset_condition0.npy')\n",
    "res = pd.read_csv('../Results/toy/toy_condition_0/BASS_dictionary.csv')\n",
    "comp = pd.read_csv('../Results/toy/toy_condition_0/Comparison_to_HMM.csv')"
   ]
  },
  {
   "cell_type": "code",
   "execution_count": 106,
   "id": "b14c71be",
   "metadata": {},
   "outputs": [
    {
     "data": {
      "text/plain": [
       "(3, 7)"
      ]
     },
     "execution_count": 106,
     "metadata": {},
     "output_type": "execute_result"
    }
   ],
   "source": [
    "weights.shape"
   ]
  },
  {
   "cell_type": "code",
   "execution_count": 76,
   "id": "f9bb02e8",
   "metadata": {},
   "outputs": [
    {
     "data": {
      "text/html": [
       "<div>\n",
       "<style scoped>\n",
       "    .dataframe tbody tr th:only-of-type {\n",
       "        vertical-align: middle;\n",
       "    }\n",
       "\n",
       "    .dataframe tbody tr th {\n",
       "        vertical-align: top;\n",
       "    }\n",
       "\n",
       "    .dataframe thead th {\n",
       "        text-align: right;\n",
       "    }\n",
       "</style>\n",
       "<table border=\"1\" class=\"dataframe\">\n",
       "  <thead>\n",
       "    <tr style=\"text-align: right;\">\n",
       "      <th></th>\n",
       "      <th>Probability</th>\n",
       "      <th>Number of occurences</th>\n",
       "      <th>Sequences</th>\n",
       "    </tr>\n",
       "  </thead>\n",
       "  <tbody>\n",
       "    <tr>\n",
       "      <th>0</th>\n",
       "      <td>0.186862</td>\n",
       "      <td>934</td>\n",
       "      <td>['5']</td>\n",
       "    </tr>\n",
       "    <tr>\n",
       "      <th>1</th>\n",
       "      <td>0.180705</td>\n",
       "      <td>903</td>\n",
       "      <td>['1']</td>\n",
       "    </tr>\n",
       "    <tr>\n",
       "      <th>2</th>\n",
       "      <td>0.144951</td>\n",
       "      <td>724</td>\n",
       "      <td>['2']</td>\n",
       "    </tr>\n",
       "    <tr>\n",
       "      <th>3</th>\n",
       "      <td>0.138395</td>\n",
       "      <td>691</td>\n",
       "      <td>['4']</td>\n",
       "    </tr>\n",
       "    <tr>\n",
       "      <th>4</th>\n",
       "      <td>0.135178</td>\n",
       "      <td>675</td>\n",
       "      <td>['7']</td>\n",
       "    </tr>\n",
       "    <tr>\n",
       "      <th>5</th>\n",
       "      <td>0.121369</td>\n",
       "      <td>606</td>\n",
       "      <td>['6']</td>\n",
       "    </tr>\n",
       "    <tr>\n",
       "      <th>6</th>\n",
       "      <td>0.092539</td>\n",
       "      <td>462</td>\n",
       "      <td>['3']</td>\n",
       "    </tr>\n",
       "  </tbody>\n",
       "</table>\n",
       "</div>"
      ],
      "text/plain": [
       "   Probability  Number of occurences Sequences\n",
       "0     0.186862                   934     ['5']\n",
       "1     0.180705                   903     ['1']\n",
       "2     0.144951                   724     ['2']\n",
       "3     0.138395                   691     ['4']\n",
       "4     0.135178                   675     ['7']\n",
       "5     0.121369                   606     ['6']\n",
       "6     0.092539                   462     ['3']"
      ]
     },
     "execution_count": 76,
     "metadata": {},
     "output_type": "execute_result"
    }
   ],
   "source": [
    "res"
   ]
  },
  {
   "cell_type": "code",
   "execution_count": 77,
   "id": "a60bda27",
   "metadata": {},
   "outputs": [
    {
     "data": {
      "text/html": [
       "<div>\n",
       "<style scoped>\n",
       "    .dataframe tbody tr th:only-of-type {\n",
       "        vertical-align: middle;\n",
       "    }\n",
       "\n",
       "    .dataframe tbody tr th {\n",
       "        vertical-align: top;\n",
       "    }\n",
       "\n",
       "    .dataframe thead th {\n",
       "        text-align: right;\n",
       "    }\n",
       "</style>\n",
       "<table border=\"1\" class=\"dataframe\">\n",
       "  <thead>\n",
       "    <tr style=\"text-align: right;\">\n",
       "      <th></th>\n",
       "      <th>Negative log P values</th>\n",
       "      <th>Empirical frequency</th>\n",
       "      <th>Expected frequency</th>\n",
       "      <th>Motif</th>\n",
       "    </tr>\n",
       "  </thead>\n",
       "  <tbody>\n",
       "    <tr>\n",
       "      <th>0</th>\n",
       "      <td>0.070999</td>\n",
       "      <td>0.172967</td>\n",
       "      <td>0.171951</td>\n",
       "      <td>['1']</td>\n",
       "    </tr>\n",
       "    <tr>\n",
       "      <th>1</th>\n",
       "      <td>0.022201</td>\n",
       "      <td>0.172013</td>\n",
       "      <td>0.171680</td>\n",
       "      <td>['5']</td>\n",
       "    </tr>\n",
       "    <tr>\n",
       "      <th>2</th>\n",
       "      <td>0.013039</td>\n",
       "      <td>0.139655</td>\n",
       "      <td>0.139473</td>\n",
       "      <td>['2']</td>\n",
       "    </tr>\n",
       "    <tr>\n",
       "      <th>3</th>\n",
       "      <td>0.008101</td>\n",
       "      <td>0.122286</td>\n",
       "      <td>0.122178</td>\n",
       "      <td>['6']</td>\n",
       "    </tr>\n",
       "    <tr>\n",
       "      <th>4</th>\n",
       "      <td>0.006405</td>\n",
       "      <td>0.139339</td>\n",
       "      <td>0.139249</td>\n",
       "      <td>['4']</td>\n",
       "    </tr>\n",
       "  </tbody>\n",
       "</table>\n",
       "</div>"
      ],
      "text/plain": [
       "   Negative log P values  Empirical frequency  Expected frequency  Motif\n",
       "0               0.070999             0.172967            0.171951  ['1']\n",
       "1               0.022201             0.172013            0.171680  ['5']\n",
       "2               0.013039             0.139655            0.139473  ['2']\n",
       "3               0.008101             0.122286            0.122178  ['6']\n",
       "4               0.006405             0.139339            0.139249  ['4']"
      ]
     },
     "execution_count": 77,
     "metadata": {},
     "output_type": "execute_result"
    }
   ],
   "source": [
    "comp"
   ]
  },
  {
   "cell_type": "code",
   "execution_count": 79,
   "id": "459dfdab",
   "metadata": {},
   "outputs": [
    {
     "data": {
      "text/plain": [
       "(5000, 2)"
      ]
     },
     "execution_count": 79,
     "metadata": {},
     "output_type": "execute_result"
    }
   ],
   "source": [
    "toy.shape"
   ]
  },
  {
   "cell_type": "markdown",
   "id": "78f12b9e",
   "metadata": {},
   "source": [
    "### Condition one:"
   ]
  },
  {
   "cell_type": "code",
   "execution_count": 80,
   "id": "617d5926",
   "metadata": {},
   "outputs": [],
   "source": [
    "cond_data1 = syllable_seq_data['Ctrl1_d1DLC_resnet50_r2_below-camera_paws-spineFeb2shuffle1_100000']"
   ]
  },
  {
   "cell_type": "code",
   "execution_count": 81,
   "id": "d4156ef2",
   "metadata": {},
   "outputs": [
    {
     "data": {
      "text/plain": [
       "{'centroid': array([[220.7422596 , 981.41291399],\n",
       "        [222.34605388, 980.60392267],\n",
       "        [224.54893412, 981.63115063],\n",
       "        ...,\n",
       "        [116.87169827, 147.17285453],\n",
       "        [116.12545226, 148.82934934],\n",
       "        [115.91010344, 150.40723622]]),\n",
       " 'heading': array([0.39192024, 0.47737155, 0.67489787, ..., 0.7841658 , 0.77901342,\n",
       "        0.84501413]),\n",
       " 'latent_state': array([[-1.19241833,  1.35717169,  2.65219351, ...,  0.37310682,\n",
       "          3.21341644,  0.93361785],\n",
       "        [-0.77525371, -0.28492257, -0.72993807, ...,  1.69601123,\n",
       "          0.55539169, -0.85027704],\n",
       "        [ 0.596823  , -2.13652034, -0.33890765, ...,  0.14232277,\n",
       "         -0.70521653, -0.67117819],\n",
       "        ...,\n",
       "        [ 0.20445175, -0.58423915,  0.12254727, ...,  1.51520007,\n",
       "         -1.14741272, -0.23531692],\n",
       "        [ 0.29240208, -0.50973049,  0.22232672, ...,  1.48763074,\n",
       "         -1.06110249, -0.59077329],\n",
       "        [ 0.29159247, -0.42689718,  0.28574157, ...,  1.45309226,\n",
       "         -0.58323332, -0.92854756]]),\n",
       " 'syllable': array([21, 21, 21, ...,  0,  0,  0]),\n",
       " 'type': 'dict'}"
      ]
     },
     "execution_count": 81,
     "metadata": {},
     "output_type": "execute_result"
    }
   ],
   "source": [
    "cond_data1"
   ]
  },
  {
   "cell_type": "code",
   "execution_count": 98,
   "id": "734e21b4",
   "metadata": {
    "collapsed": true
   },
   "outputs": [
    {
     "name": "stdout",
     "output_type": "stream",
     "text": [
      "Condition lengths: [30, 37, 5, 13, 20, 22, 11, 58, 14, 24, 14, 14, 7, 32, 36, 49, 16, 37, 19, 17, 28, 9, 6, 32, 21, 96, 42, 11, 25, 14, 12, 22, 12, 64, 31, 22, 33, 59, 5, 16, 25, 13, 36, 24, 11, 8, 25, 34, 17, 9, 28, 23, 22, 8, 8, 20, 18, 11, 12, 52, 25, 9, 73, 49, 49, 16, 9, 10, 18, 10, 46, 25, 31, 13, 38, 19, 15, 12, 19, 47, 34, 119, 23, 28, 53, 44, 17, 14, 10, 8, 13, 20, 10, 11, 13, 44, 73, 9, 43, 215, 8, 40, 110, 14, 49, 15, 11, 4, 4, 14, 6, 12, 12, 26, 19, 49, 13, 48, 54, 21, 21, 8, 22, 36, 8, 13, 22, 4, 23, 6, 19, 6, 9, 16, 8, 9, 25, 24, 15, 37, 31, 15, 32, 22, 12, 45, 33, 22, 25, 23, 16, 8, 48, 24, 13, 22, 23, 40, 21, 22, 25, 17, 29, 13, 8, 5, 5, 17, 29, 9, 50, 16, 36, 15, 59, 33, 11, 11, 23, 28, 55, 29, 37, 17, 24, 25, 20, 18, 48, 15, 51, 42, 40, 21, 25, 12, 15, 71, 70, 65, 17, 44, 44, 40, 19, 22, 62, 5, 16, 8, 28, 20, 28, 42, 38, 48, 63, 26, 47, 18, 16, 53, 47, 12, 19, 16, 12, 5, 12, 32, 151, 24, 15, 40, 24, 28, 25, 12, 83, 55, 64, 27, 14, 27, 23, 50, 35, 20, 12, 28, 18, 48, 39, 25, 22, 11, 41, 17, 25, 23, 62, 8, 22, 25, 97, 29, 91, 26, 27, 31, 72, 20, 6, 22, 16, 24, 74, 46, 36, 80, 12, 148, 30, 21, 9, 12, 24, 67, 19, 14, 13, 18, 22, 64, 44, 41, 46, 21, 9, 4, 10, 41, 22, 7, 10, 29, 6, 18, 15, 30, 11, 9, 27, 11, 20, 69, 19, 21, 17, 32, 9, 4, 5, 11, 11, 7, 20, 10, 38, 14, 4, 16, 54, 24, 11, 7, 15, 17, 51, 35, 102, 9, 21, 8, 16, 26, 7, 7, 13, 7, 7, 15, 24, 11, 32, 20, 34, 23, 32, 80, 31, 12, 12, 12, 12, 16, 11, 14, 56, 25, 72, 23, 23, 60, 56, 18, 10, 8, 46, 8, 22, 9, 16, 12, 12, 11, 41, 14, 36, 37, 20, 111, 19, 25, 32, 14, 17, 9, 9, 18, 22, 32, 50, 33, 26, 27, 37, 21, 36, 24, 17, 30, 26, 11, 36, 41, 70, 48, 9, 32, 33, 29, 10, 57, 29, 35, 85, 12, 103, 15, 88, 8, 68, 74, 53, 33, 12, 105, 17, 60, 40, 24, 25, 183, 64, 80, 44, 18, 18, 23, 36, 18, 26, 6, 8, 34, 34, 21, 20, 35, 35, 10, 30, 20, 18, 24, 10, 40, 36, 35, 43, 7, 14, 23, 19, 18, 35, 35, 20, 23, 33, 30, 27, 27, 37, 9, 44, 78, 58, 77, 42, 43, 46, 36, 72, 53, 23, 66, 45, 46, 88, 28, 82, 85, 69, 80, 82, 36, 25, 59, 24, 30, 60, 50, 19, 62, 54, 32, 87, 53, 89, 111, 24, 27, 36, 186, 99, 194, 176, 64, 219, 46, 41, 52, 106, 64, 34, 18, 23, 53, 58, 14, 54, 49, 55, 76, 24, 19, 8, 23, 20, 12, 14, 38, 32, 36, 29, 94, 45, 26, 27, 28, 55, 137, 17, 42, 45, 22, 57, 167, 80, 53, 66, 39, 40, 113, 21, 52, 28, 55, 41, 62, 117, 84, 31, 38, 29, 55, 43, 19, 44, 66, 23, 25, 30, 41, 58, 24, 53, 30, 20, 34, 19, 6, 70, 587, 144, 74, 62, 207, 49, 158, 286, 14, 33, 14, 28, 29, 45, 17, 31, 42, 27, 34, 32, 37, 41, 43, 16, 34, 54, 94, 39, 13, 33, 31, 28, 23, 171, 23, 28, 34, 27, 102, 49, 31, 35, 13, 16, 11, 15, 14, 90, 72, 51, 30, 36, 40, 42, 37, 45, 51, 25, 31, 26, 21, 53, 152, 156, 147, 139, 79, 24, 207, 27, 18, 23, 84, 16, 25, 57, 29, 34, 34, 35, 124, 53, 75, 57, 41, 106, 13, 17, 55, 155, 18, 24, 61, 6, 41, 45, 132, 78, 15, 55, 29, 71, 78, 30, 30, 18, 153, 91, 49, 29, 62, 125, 33, 49, 186, 327, 48, 56, 38, 28, 79, 53, 12, 22, 28, 40, 40, 73, 75, 59, 57, 30, 38, 77, 38, 5, 23, 33, 7, 120, 60, 39, 22, 86, 5, 29, 58, 36, 18, 57, 35, 4, 51, 42, 45, 58, 7, 15, 75, 31, 47, 21, 31, 17, 19, 41, 14, 16, 46, 13, 27, 11, 32, 63, 98, 14, 37, 32, 16, 18, 46, 23, 34, 99, 24, 11, 79, 19, 30, 32, 54, 19, 58, 22, 41, 70, 50, 113, 7, 81, 32, 54, 44, 18, 25, 69, 8, 4, 7, 26, 34, 37, 28, 8, 8, 7, 30, 4, 5, 32, 7, 8, 44, 33, 41, 34, 9, 18, 5, 33, 44, 8, 4, 8, 10, 65, 4, 45, 36, 5, 48, 12, 31, 19, 24, 32, 77, 14, 29, 65, 14, 50, 12, 57, 6, 13, 22, 115, 10, 16, 17, 14, 24, 21, 24, 29, 58, 18, 6, 12, 18, 19, 15, 43, 78, 13, 45, 46, 16, 8, 17, 7, 7, 12, 12, 59, 8, 22, 77, 18, 20, 51, 10, 12, 17, 61, 32, 17, 38, 11, 161, 21, 31, 57, 34, 5, 19, 8, 43, 18, 16, 15, 50, 66, 21, 11, 33, 10, 18, 59, 36, 54, 20, 7, 12, 13, 37, 25, 6, 22, 12, 7, 4, 12, 7, 18, 126, 47, 7, 25, 17, 55, 36, 7, 57, 21, 46, 58, 104, 7, 20, 7, 6, 7, 9, 48, 14, 17, 69, 27, 52, 21, 58, 30, 27, 78, 10, 24, 34, 12, 8, 26, 29, 49, 36, 14, 76, 45, 5, 40, 15, 48, 12, 17, 27, 18, 37, 12, 40, 26, 8, 29, 48, 16, 32, 19, 13, 45, 7, 54, 17, 72, 6, 20, 29, 36, 28, 25, 78, 19, 8, 10, 22, 37, 103, 29, 4, 24, 28, 12, 10, 4, 27, 39, 27, 46, 26, 45, 5, 30, 22, 20, 14, 6, 52, 60, 91, 15, 9, 82, 18, 13, 57, 48, 7, 43, 67, 18, 31, 76, 38, 21, 17, 17, 66, 15, 14, 26, 38, 81, 12, 26, 13, 14, 21, 18, 20, 23, 23, 17, 16, 34, 81, 28, 16, 35, 23, 19, 18, 28, 14, 47, 42, 23, 18, 37, 52, 16, 34, 38, 14, 58, 26, 20, 8, 21, 17, 23, 127, 23, 54, 37, 22, 67, 12, 15, 11, 26, 16, 26, 9, 17, 15, 17, 16, 20, 7, 6, 32, 16, 20, 7, 5, 5, 5, 12, 6, 8, 5, 7, 7, 7, 7, 4, 4, 5, 11, 4, 4, 4, 6, 13, 10, 5, 4, 12, 9, 7, 4, 7, 5, 4, 6, 6, 5, 5, 11, 11, 4, 6, 8, 17, 22, 10, 4, 4, 4, 4, 6, 6, 13, 4, 11, 8, 7, 8, 8, 11, 10, 11, 4, 15, 5, 17, 4, 5, 22, 12, 37, 15, 6, 33, 10, 7, 4, 26, 4, 6, 13, 6, 5, 8, 18, 4, 17, 4, 4, 5, 4, 7, 6, 8, 32, 9, 23, 4, 22, 7, 4, 5, 24, 13, 4, 15, 35, 8, 10, 7, 4, 20, 11, 14, 10, 14, 7, 23, 19, 12, 8, 14, 9, 24, 9, 25, 8, 30, 13, 14, 35, 13, 5, 19, 9, 6, 4, 43, 25, 25, 7, 9, 8, 18, 25, 4, 9, 7, 7, 8, 4, 7, 6, 12, 24, 5, 10, 12, 7, 8, 6, 5, 9, 29, 17, 7, 9, 6, 14, 12, 4, 8, 5, 15, 14, 9, 20, 8, 17, 23, 11, 7, 7, 16, 5, 23, 24, 31, 5, 16, 48, 9, 4, 10, 6, 27, 33, 17, 19, 24, 39, 38, 55, 25, 12, 50, 41, 23, 7, 20, 9, 24, 14, 11, 18, 21, 8, 29, 14, 19, 13, 8, 42, 21, 35, 30, 23, 47, 13, 33, 24, 22, 5, 5, 5, 10, 13, 29, 8, 9, 4, 12, 4, 5, 4, 12, 11, 11, 6, 7, 4, 11, 10, 10, 24, 27, 13, 21, 7, 20, 44, 9, 18, 23, 8, 37, 20, 4, 16, 5, 19, 11, 10, 8, 11, 15, 14, 11, 13, 14, 40, 4, 4, 7, 6, 4, 9, 5, 5, 5, 7, 5, 11, 8, 6, 6, 4, 6, 5, 8, 4, 5, 5, 8, 7, 7, 5, 4, 10, 5, 4, 39, 14, 14, 12, 25, 12, 13, 9, 12, 9, 8, 10, 12, 14, 13, 23, 9, 6, 12, 7, 6, 6, 22, 37, 25, 21, 17, 25, 10, 7, 39, 59, 9, 25, 4, 87, 25, 54, 16, 58, 80, 22, 8, 8, 18, 19, 22, 9, 105, 22, 4, 4, 13, 4, 23, 26, 30, 18, 25, 9, 19, 30, 10, 7, 10, 8, 6, 7, 11, 51, 60, 54, 51, 13, 16, 38, 16, 21, 6, 4, 12, 4, 21, 15, 6, 14, 34, 15, 9, 8, 8, 16, 13, 4, 8, 16, 4, 5]\n"
     ]
    }
   ],
   "source": [
    "condition_lengths = []\n",
    "\n",
    "\n",
    "for syllable_key, indices in index_data.items():\n",
    "    for entry in indices:\n",
    "        file, start, end = entry\n",
    "        if file == 'Ctrl1_d1DLC_resnet50_r2_below-camera_paws-spineFeb2shuffle1_100000':\n",
    "            length = end - start + 1\n",
    "            condition_lengths.append(length)\n",
    "\n",
    "\n",
    "np.save('moseq_lengths_condition0.npy', condition_lengths)\n",
    "\n",
    "\n",
    "print(\"Condition lengths:\", condition_lengths)\n"
   ]
  },
  {
   "cell_type": "code",
   "execution_count": 47,
   "id": "362e64cf",
   "metadata": {},
   "outputs": [
    {
     "name": "stdout",
     "output_type": "stream",
     "text": [
      "Keys have been written to moseq_class_names.txt\n"
     ]
    }
   ],
   "source": [
    "\n",
    "labels = syllableraw_data.keys()\n",
    "keys = np.unique(labels)\n",
    "\n",
    "\n",
    "keys_str = ','.join(map(str, keys))\n",
    "\n",
    "\n",
    "with open('../Data/train_class_names.txt', 'w') as f:\n",
    "    f.write(keys_str)\n",
    "\n",
    "print(\"Keys have been written to moseq_class_names.txt\")"
   ]
  },
  {
   "cell_type": "code",
   "execution_count": null,
   "id": "c6117f79",
   "metadata": {},
   "outputs": [],
   "source": [
    "lengths = np.array([])"
   ]
  },
  {
   "cell_type": "code",
   "execution_count": 107,
   "id": "802f5a1d",
   "metadata": {},
   "outputs": [
    {
     "name": "stdout",
     "output_type": "stream",
     "text": [
      "Covariances shape: (25, 440, 440)\n",
      "Means shape: (25, 440)\n",
      "Weights shape: (1, 25)\n"
     ]
    }
   ],
   "source": [
    "from sklearn.mixture import GaussianMixture\n",
    "\n",
    "\n",
    "num_syllables = len(syllableraw_data)\n",
    "covariances = []\n",
    "means = []\n",
    "weights = []\n",
    "\n",
    "for syllable, data in syllableraw_data.items():\n",
    "    N, T, K, S = data.shape\n",
    "    flattened_data = data.reshape(N, T * K * S)\n",
    "    \n",
    "    gmm = GaussianMixture(n_components=1, covariance_type='full')\n",
    "    gmm.fit(flattened_data)\n",
    "    \n",
    "    covariances.append(gmm.covariances_[0])\n",
    "    means.append(gmm.means_[0])\n",
    "    weights.append(gmm.weights_[0])\n",
    "\n",
    "covariances = np.array(covariances)\n",
    "means = np.array(means)\n",
    "weights = np.array(weights).reshape(1, -1)  \n",
    "\n",
    "\n",
    "\n",
    "print(\"Covariances shape:\", covariances.shape)\n",
    "print(\"Means shape:\", means.shape)\n",
    "print(\"Weights shape:\", weights.shape)\n"
   ]
  },
  {
   "cell_type": "code",
   "execution_count": 108,
   "id": "84c983d4",
   "metadata": {},
   "outputs": [],
   "source": [
    "\n",
    "np.save('moseq_weights.npy', weights)"
   ]
  },
  {
   "cell_type": "code",
   "execution_count": 109,
   "id": "d9cfaf2a",
   "metadata": {
    "collapsed": true
   },
   "outputs": [
    {
     "name": "stdout",
     "output_type": "stream",
     "text": [
      "Total length of segments: 92260\n",
      "Condition lengths: [30, 37, 5, 13, 20, 22, 11, 58, 14, 24, 14, 14, 7, 32, 36, 49, 16, 37, 19, 17, 28, 9, 6, 32, 21, 96, 42, 11, 25, 14, 12, 22, 12, 64, 31, 22, 33, 59, 5, 16, 25, 13, 36, 24, 11, 8, 25, 34, 17, 9, 28, 23, 22, 8, 8, 20, 18, 11, 12, 52, 25, 9, 73, 49, 49, 16, 9, 10, 18, 10, 46, 25, 31, 13, 38, 19, 15, 12, 19, 47, 34, 119, 23, 28, 53, 44, 17, 14, 10, 8, 13, 20, 10, 11, 13, 44, 73, 9, 43, 215, 8, 40, 110, 14, 49, 15, 11, 4, 4, 14, 6, 12, 12, 26, 19, 49, 13, 48, 54, 21, 21, 8, 22, 36, 8, 13, 22, 4, 23, 6, 19, 6, 9, 16, 8, 9, 25, 24, 15, 37, 31, 15, 32, 22, 12, 45, 33, 22, 25, 23, 16, 8, 48, 24, 13, 22, 23, 40, 21, 22, 25, 17, 29, 13, 8, 5, 5, 17, 29, 9, 50, 16, 36, 15, 59, 33, 11, 11, 23, 28, 55, 29, 37, 17, 24, 25, 20, 18, 48, 15, 51, 42, 40, 21, 25, 12, 15, 71, 70, 65, 17, 44, 44, 40, 19, 22, 62, 5, 16, 8, 28, 20, 28, 42, 38, 48, 63, 26, 47, 18, 16, 53, 47, 12, 19, 16, 12, 5, 12, 32, 151, 24, 15, 40, 24, 28, 25, 12, 83, 55, 64, 27, 14, 27, 23, 50, 35, 20, 12, 28, 18, 48, 39, 25, 22, 11, 41, 17, 25, 23, 62, 8, 22, 25, 97, 29, 91, 26, 27, 31, 72, 20, 6, 22, 16, 24, 74, 46, 36, 80, 12, 148, 30, 21, 9, 12, 24, 67, 19, 14, 13, 18, 22, 64, 44, 41, 46, 21, 9, 4, 10, 41, 22, 7, 10, 29, 6, 18, 15, 30, 11, 9, 27, 11, 20, 69, 19, 21, 17, 32, 9, 4, 5, 11, 11, 7, 20, 10, 38, 14, 4, 16, 54, 24, 11, 7, 15, 17, 51, 35, 102, 9, 21, 8, 16, 26, 7, 7, 13, 7, 7, 15, 24, 11, 32, 20, 34, 23, 32, 80, 31, 12, 12, 12, 12, 16, 11, 14, 56, 25, 72, 23, 23, 60, 56, 18, 10, 8, 46, 8, 22, 9, 16, 12, 12, 11, 41, 14, 36, 37, 20, 111, 19, 25, 32, 14, 17, 9, 9, 18, 22, 32, 50, 33, 26, 27, 37, 21, 36, 24, 17, 30, 26, 11, 36, 41, 70, 48, 9, 32, 33, 29, 10, 57, 29, 35, 85, 12, 103, 15, 88, 8, 68, 74, 53, 33, 12, 105, 17, 60, 40, 24, 25, 183, 64, 80, 44, 18, 18, 23, 36, 18, 26, 6, 8, 34, 34, 21, 20, 35, 35, 10, 30, 20, 18, 24, 10, 40, 36, 35, 43, 7, 14, 23, 19, 18, 35, 35, 20, 23, 33, 30, 27, 27, 37, 9, 44, 78, 58, 77, 42, 43, 46, 36, 72, 53, 23, 66, 45, 46, 88, 28, 82, 85, 69, 80, 82, 36, 25, 59, 24, 30, 60, 50, 19, 62, 54, 32, 87, 53, 89, 111, 24, 27, 36, 186, 99, 194, 176, 64, 219, 46, 41, 52, 106, 64, 34, 18, 23, 53, 58, 14, 54, 49, 55, 76, 24, 19, 8, 23, 20, 12, 14, 38, 32, 36, 29, 94, 45, 26, 27, 28, 55, 137, 17, 42, 45, 22, 57, 167, 80, 53, 66, 39, 40, 113, 21, 52, 28, 55, 41, 62, 117, 84, 31, 38, 29, 55, 43, 19, 44, 66, 23, 25, 30, 41, 58, 24, 53, 30, 20, 34, 19, 6, 70, 587, 144, 74, 62, 207, 49, 158, 286, 14, 33, 14, 28, 29, 45, 17, 31, 42, 27, 34, 32, 37, 41, 43, 16, 34, 54, 94, 39, 13, 33, 31, 28, 23, 171, 23, 28, 34, 27, 102, 49, 31, 35, 13, 16, 11, 15, 14, 90, 72, 51, 30, 36, 40, 42, 37, 45, 51, 25, 31, 26, 21, 53, 152, 156, 147, 139, 79, 24, 207, 27, 18, 23, 84, 16, 25, 57, 29, 34, 34, 35, 124, 53, 75, 57, 41, 106, 13, 17, 55, 155, 18, 24, 61, 6, 41, 45, 132, 78, 15, 55, 29, 71, 78, 30, 30, 18, 153, 91, 49, 29, 62, 125, 33, 49, 186, 327, 48, 56, 38, 28, 79, 53, 12, 22, 28, 40, 40, 73, 75, 59, 57, 30, 38, 77, 38, 5, 23, 33, 7, 120, 60, 39, 22, 86, 5, 29, 58, 36, 18, 57, 35, 4, 51, 42, 45, 58, 7, 15, 75, 31, 47, 21, 31, 17, 19, 41, 14, 16, 46, 13, 27, 11, 32, 63, 98, 14, 37, 32, 16, 18, 46, 23, 34, 99, 24, 11, 79, 19, 30, 32, 54, 19, 58, 22, 41, 70, 50, 113, 7, 81, 32, 54, 44, 18, 25, 69, 8, 4, 7, 26, 34, 37, 28, 8, 8, 7, 30, 4, 5, 32, 7, 8, 44, 33, 41, 34, 9, 18, 5, 33, 44, 8, 4, 8, 10, 65, 4, 45, 36, 5, 48, 12, 31, 19, 24, 32, 77, 14, 29, 65, 14, 50, 12, 57, 6, 13, 22, 115, 10, 16, 17, 14, 24, 21, 24, 29, 58, 18, 6, 12, 18, 19, 15, 43, 78, 13, 45, 46, 16, 8, 17, 7, 7, 12, 12, 59, 8, 22, 77, 18, 20, 51, 10, 12, 17, 61, 32, 17, 38, 11, 161, 21, 31, 57, 34, 5, 19, 8, 43, 18, 16, 15, 50, 66, 21, 11, 33, 10, 18, 59, 36, 54, 20, 7, 12, 13, 37, 25, 6, 22, 12, 7, 4, 12, 7, 18, 126, 47, 7, 25, 17, 55, 36, 7, 57, 21, 46, 58, 104, 7, 20, 7, 6, 7, 9, 48, 14, 17, 69, 27, 52, 21, 58, 30, 27, 78, 10, 24, 34, 12, 8, 26, 29, 49, 36, 14, 76, 45, 5, 40, 15, 48, 12, 17, 27, 18, 37, 12, 40, 26, 8, 29, 48, 16, 32, 19, 13, 45, 7, 54, 17, 72, 6, 20, 29, 36, 28, 25, 78, 19, 8, 10, 22, 37, 103, 29, 4, 24, 28, 12, 10, 4, 27, 39, 27, 46, 26, 45, 5, 30, 22, 20, 14, 6, 52, 60, 91, 15, 9, 82, 18, 13, 57, 48, 7, 43, 67, 18, 31, 76, 38, 21, 17, 17, 66, 15, 14, 26, 38, 81, 12, 26, 13, 14, 21, 18, 20, 23, 23, 17, 16, 34, 81, 28, 16, 35, 23, 19, 18, 28, 14, 47, 42, 23, 18, 37, 52, 16, 34, 38, 14, 58, 26, 20, 8, 21, 17, 23, 127, 23, 54, 37, 22, 67, 12, 15, 11, 26, 16, 26, 9, 17, 15, 17, 16, 20, 7, 6, 32, 16, 20, 7, 5, 5, 5, 12, 6, 8, 5, 7, 7, 7, 7, 4, 4, 5, 11, 4, 4, 4, 6, 13, 10, 5, 4, 12, 9, 7, 4, 7, 5, 4, 6, 6, 5, 5, 11, 11, 4, 6, 8, 17, 22, 10, 4, 4, 4, 4, 6, 6, 13, 4, 11, 8, 7, 8, 8, 11, 10, 11, 4, 15, 5, 17, 4, 5, 22, 12, 37, 15, 6, 33, 10, 7, 4, 26, 4, 6, 13, 6, 5, 8, 18, 4, 17, 4, 4, 5, 4, 7, 6, 8, 32, 9, 23, 4, 22, 7, 4, 5, 24, 13, 4, 15, 35, 8, 10, 7, 4, 20, 11, 14, 10, 14, 7, 23, 19, 12, 8, 14, 9, 24, 9, 25, 8, 30, 13, 14, 35, 13, 5, 19, 9, 6, 4, 43, 25, 25, 7, 9, 8, 18, 25, 4, 9, 7, 7, 8, 4, 7, 6, 12, 24, 5, 10, 12, 7, 8, 6, 5, 9, 29, 17, 7, 9, 6, 14, 12, 4, 8, 5, 15, 14, 9, 20, 8, 17, 23, 11, 7, 7, 16, 5, 23, 24, 31, 5, 16, 48, 9, 4, 10, 6, 27, 33, 17, 19, 24, 39, 38, 55, 25, 12, 50, 41, 23, 7, 20, 9, 24, 14, 11, 18, 21, 8, 29, 14, 19, 13, 8, 42, 21, 35, 30, 23, 47, 13, 33, 24, 22, 5, 5, 5, 10, 13, 29, 8, 9, 4, 12, 4, 5, 4, 12, 11, 11, 6, 7, 4, 11, 10, 10, 24, 27, 13, 21, 7, 20, 44, 9, 18, 23, 8, 37, 20, 4, 16, 5, 19, 11, 10, 8, 11, 15, 14, 11, 13, 14, 40, 4, 4, 7, 6, 4, 9, 5, 5, 5, 7, 5, 11, 8, 6, 6, 4, 6, 5, 8, 4, 5, 5, 8, 7, 7, 5, 4, 10, 5, 4, 39, 14, 14, 12, 25, 12, 13, 9, 12, 9, 8, 10, 12, 14, 13, 23, 9, 6, 12, 7, 6, 6, 22, 37, 25, 21, 17, 25, 10, 7, 39, 59, 9, 25, 4, 87, 25, 54, 16, 58, 80, 22, 8, 8, 18, 19, 22, 9, 105, 22, 4, 4, 13, 4, 23, 26, 30, 18, 25, 9, 19, 30, 10, 7, 10, 8, 6, 7, 11, 51, 60, 54, 51, 13, 16, 38, 16, 21, 6, 4, 12, 4, 21, 15, 6, 14, 34, 15, 9, 8, 8, 16, 13, 4, 8, 16, 4, 5, 30, 37, 5, 13, 20, 22, 11, 58, 14, 24, 14, 14, 7, 32, 36, 49, 16, 37, 19, 17, 28, 9, 6, 32, 21, 96, 42, 11, 25, 14, 12, 22, 12, 64, 31, 22, 33, 59, 5, 16, 25, 13, 36, 24, 11, 8, 25, 34, 17, 9, 28, 23, 22, 8, 8, 20, 18, 11, 12, 52, 25, 9, 73, 49, 49, 16, 9, 10, 18, 10, 46, 25, 31, 13, 38, 19, 15, 12, 19, 47, 34, 119, 23, 28, 53, 44, 17, 14, 10, 8, 13, 20, 10, 11, 13, 44, 73, 9, 43, 215, 8, 40, 110, 14, 49, 15, 11, 4, 4, 14, 6, 12, 12, 26, 19, 49, 13, 48, 54, 21, 21, 8, 22, 36, 8, 13, 22, 4, 23, 6, 19, 6, 9, 16, 8, 9, 25, 24, 15, 37, 31, 15, 32, 22, 12, 45, 33, 22, 25, 23, 16, 8, 48, 24, 13, 22, 23, 40, 21, 22, 25, 17, 29, 13, 8, 5, 5, 17, 29, 9, 50, 16, 36, 15, 59, 33, 11, 11, 23, 28, 55, 29, 37, 17, 24, 25, 20, 18, 48, 15, 51, 42, 40, 21, 25, 12, 15, 71, 70, 65, 17, 44, 44, 40, 19, 22, 62, 5, 16, 8, 28, 20, 28, 42, 38, 48, 63, 26, 47, 18, 16, 53, 47, 12, 19, 16, 12, 5, 12, 32, 151, 24, 15, 40, 24, 28, 25, 12, 83, 55, 64, 27, 14, 27, 23, 50, 35, 20, 12, 28, 18, 48, 39, 25, 22, 11, 41, 17, 25, 23, 62, 8, 22, 25, 97, 29, 91, 26, 27, 31, 72, 20, 6, 22, 16, 24, 74, 46, 36, 80, 12, 148, 30, 21, 9, 12, 24, 67, 19, 14, 13, 18, 22, 64, 44, 41, 46, 21, 9, 4, 10, 41, 22, 7, 10, 29, 6, 18, 15, 30, 11, 9, 27, 11, 20, 69, 19, 21, 17, 32, 9, 4, 5, 11, 11, 7, 20, 10, 38, 14, 4, 16, 54, 24, 11, 7, 15, 17, 51, 35, 102, 9, 21, 8, 16, 26, 7, 7, 13, 7, 7, 15, 24, 11, 32, 20, 34, 23, 32, 80, 31, 12, 12, 12, 12, 16, 11, 14, 56, 25, 72, 23, 23, 60, 56, 18, 10, 8, 46, 8, 22, 9, 16, 12, 12, 11, 41, 14, 36, 37, 20, 111, 19, 25, 32, 14, 17, 9, 9, 18, 22, 32, 50, 33, 26, 27, 37, 21, 36, 24, 17, 30, 26, 11, 36, 41, 70, 48, 9, 32, 33, 29, 10, 57, 29, 35, 85, 12, 103, 15, 88, 8, 68, 74, 53, 33, 12, 105, 17, 60, 40, 24, 25, 183, 64, 80, 44, 18, 18, 23, 36, 18, 26, 6, 8, 34, 34, 21, 20, 35, 35, 10, 30, 20, 18, 24, 10, 40, 36, 35, 43, 7, 14, 23, 19, 18, 35, 35, 20, 23, 33, 30, 27, 27, 37, 9, 44, 78, 58, 77, 42, 43, 46, 36, 72, 53, 23, 66, 45, 46, 88, 28, 82, 85, 69, 80, 82, 36, 25, 59, 24, 30, 60, 50, 19, 62, 54, 32, 87, 53, 89, 111, 24, 27, 36, 186, 99, 194, 176, 64, 219, 46, 41, 52, 106, 64, 34, 18, 23, 53, 58, 14, 54, 49, 55, 76, 24, 19, 8, 23, 20, 12, 14, 38, 32, 36, 29, 94, 45, 26, 27, 28, 55, 137, 17, 42, 45, 22, 57, 167, 80, 53, 66, 39, 40, 113, 21, 52, 28, 55, 41, 62, 117, 84, 31, 38, 29, 55, 43, 19, 44, 66, 23, 25, 30, 41, 58, 24, 53, 30, 20, 34, 19, 6, 70, 587, 144, 74, 62, 207, 49, 158, 286, 14, 33, 14, 28, 29, 45, 17, 31, 42, 27, 34, 32, 37, 41, 43, 16, 34, 54, 94, 39, 13, 33, 31, 28, 23, 171, 23, 28, 34, 27, 102, 49, 31, 35, 13, 16, 11, 15, 14, 90, 72, 51, 30, 36, 40, 42, 37, 45, 51, 25, 31, 26, 21, 53, 152, 156, 147, 139, 79, 24, 207, 27, 18, 23, 84, 16, 25, 57, 29, 34, 34, 35, 124, 53, 75, 57, 41, 106, 13, 17, 55, 155, 18, 24, 61, 6, 41, 45, 132, 78, 15, 55, 29, 71, 78, 30, 30, 18, 153, 91, 49, 29, 62, 125, 33, 49, 186, 327, 48, 56, 38, 28, 79, 53, 12, 22, 28, 40, 40, 73, 75, 59, 57, 30, 38, 77, 38, 5, 23, 33, 7, 120, 60, 39, 22, 86, 5, 29, 58, 36, 18, 57, 35, 4, 51, 42, 45, 58, 7, 15, 75, 31, 47, 21, 31, 17, 19, 41, 14, 16, 46, 13, 27, 11, 32, 63, 98, 14, 37, 32, 16, 18, 46, 23, 34, 99, 24, 11, 79, 19, 30, 32, 54, 19, 58, 22, 41, 70, 50, 113, 7, 81, 32, 54, 44, 18, 25, 69, 8, 4, 7, 26, 34, 37, 28, 8, 8, 7, 30, 4, 5, 32, 7, 8, 44, 33, 41, 34, 9, 18, 5, 33, 44, 8, 4, 8, 10, 65, 4, 45, 36, 5, 48, 12, 31, 19, 24, 32, 77, 14, 29, 65, 14, 50, 12, 57, 6, 13, 22, 115, 10, 16, 17, 14, 24, 21, 24, 29, 58, 18, 6, 12, 18, 19, 15, 43, 78, 13, 45, 46, 16, 8, 17, 7, 7, 12, 12, 59, 8, 22, 77, 18, 20, 51, 10, 12, 17, 61, 32, 17, 38, 11, 161, 21, 31, 57, 34, 5, 19, 8, 43, 18, 16, 15, 50, 66, 21, 11, 33, 10, 18, 59, 36, 54, 20, 7, 12, 13, 37, 25, 6, 22, 12, 7, 4, 12, 7, 18, 126, 47, 7, 25, 17, 55, 36, 7, 57, 21, 46, 58, 104, 7, 20, 7, 6, 7, 9, 48, 14, 17, 69, 27, 52, 21, 58, 30, 27, 78, 10, 24, 34, 12, 8, 26, 29, 49, 36, 14, 76, 45, 5, 40, 15, 48, 12, 17, 27, 18, 37, 12, 40, 26, 8, 29, 48, 16, 32, 19, 13, 45, 7, 54, 17, 72, 6, 20, 29, 36, 28, 25, 78, 19, 8, 10, 22, 37, 103, 29, 4, 24, 28, 12, 10, 4, 27, 39, 27, 46, 26, 45, 5, 30, 22, 20, 14, 6, 52, 60, 91, 15, 9, 82, 18, 13, 57, 48, 7, 43, 67, 18, 31, 76, 38, 21, 17, 17, 66, 15, 14, 26, 38, 81, 12, 26, 13, 14, 21, 18, 20, 23, 23, 17, 16, 34, 81, 28, 16, 35, 23, 19, 18, 28, 14, 47, 42, 23, 18, 37, 52, 16, 34, 38, 14, 58, 26, 20, 8, 21, 17, 23, 127, 23, 54, 37, 22, 67, 12, 15, 11, 26, 16, 26, 9, 17, 15, 17, 16, 20, 7, 6, 32, 16, 20, 7, 5, 5, 5, 12, 6, 8, 5, 7, 7, 7, 7, 4, 4, 5, 11, 4, 4, 4, 6, 13, 10, 5, 4, 12, 9, 7, 4, 7, 5, 4, 6, 6, 5, 5, 11, 11, 4, 6, 8, 17, 22, 10, 4, 4, 4, 4, 6, 6, 13, 4, 11, 8, 7, 8, 8, 11, 10, 11, 4, 15, 5, 17, 4, 5, 22, 12, 37, 15, 6, 33, 10, 7, 4, 26, 4, 6, 13, 6, 5, 8, 18, 4, 17, 4, 4, 5, 4, 7, 6, 8, 32, 9, 23, 4, 22, 7, 4, 5, 24, 13, 4, 15, 35, 8, 10, 7, 4, 20, 11, 14, 10, 14, 7, 23, 19, 12, 8, 14, 9, 24, 9, 25, 8, 30, 13, 14, 35, 13, 5, 19, 9, 6, 4, 43, 25, 25, 7, 9, 8, 18, 25, 4, 9, 7, 7, 8, 4, 7, 6, 12, 24, 5, 10, 12, 7, 8, 6, 5, 9, 29, 17, 7, 9, 6, 14, 12, 4, 8, 5, 15, 14, 9, 20, 8, 17, 23, 11, 7, 7, 16, 5, 23, 24, 31, 5, 16, 48, 9, 4, 10, 6, 27, 33, 17, 19, 24, 39, 38, 55, 25, 12, 50, 41, 23, 7, 20, 9, 24, 14, 11, 18, 21, 8, 29, 14, 19, 13, 8, 42, 21, 35, 30, 23, 47, 13, 33, 24, 22, 5, 5, 5, 10, 13, 29, 8, 9, 4, 12, 4, 5, 4, 12, 11, 11, 6, 7, 4, 11, 10, 10, 24, 27, 13, 21, 7, 20, 44, 9, 18, 23, 8, 37, 20, 4, 16, 5, 19, 11, 10, 8, 11, 15, 14, 11, 13, 14, 40, 4, 4, 7, 6, 4, 9, 5, 5, 5, 7, 5, 11, 8, 6, 6, 4, 6, 5, 8, 4, 5, 5, 8, 7, 7, 5, 4, 10, 5, 4, 39, 14, 14, 12, 25, 12, 13, 9, 12, 9, 8, 10, 12, 14, 13, 23, 9, 6, 12, 7, 6, 6, 22, 37, 25, 21, 17, 25, 10, 7, 39, 59, 9, 25, 4, 87, 25, 54, 16, 58, 80, 22, 8, 8, 18, 19, 22, 9, 105, 22, 4, 4, 13, 4, 23, 26, 30, 18, 25, 9, 19, 30, 10, 7, 10, 8, 6, 7, 11, 51, 60, 54, 51, 13, 16, 38, 16, 21, 6, 4, 12, 4, 21, 15, 6, 14, 34, 15, 9, 8, 8, 16, 13, 4, 8, 16, 4, 5]\n"
     ]
    }
   ],
   "source": [
    "for syllable_key, indices in index_data.items():\n",
    "    for entry in indices:\n",
    "        file, start, end = entry\n",
    "        if file == 'Ctrl1_d1DLC_resnet50_r2_below-camera_paws-spineFeb2shuffle1_100000':\n",
    "            length = end - start + 1\n",
    "            condition_lengths.append(length)\n",
    "\n",
    "total_length = sum(condition_lengths)\n",
    "print(f\"Total length of segments: {total_length}\")\n",
    "\n",
    "\n",
    "np.save('phtaxis_lengths_condition0.npy', condition_lengths)\n",
    "\n",
    "print(\"Condition lengths:\", condition_lengths)"
   ]
  },
  {
   "cell_type": "markdown",
   "id": "5df5cc6b",
   "metadata": {},
   "source": [
    "## Bug Fixing"
   ]
  },
  {
   "cell_type": "code",
   "execution_count": 121,
   "id": "f1305815",
   "metadata": {},
   "outputs": [],
   "source": [
    "data = np.load('../Data/moseq_dataset_condition0.npy')"
   ]
  },
  {
   "cell_type": "code",
   "execution_count": 122,
   "id": "42624884",
   "metadata": {},
   "outputs": [
    {
     "data": {
      "text/plain": [
       "(45588, 12)"
      ]
     },
     "execution_count": 122,
     "metadata": {},
     "output_type": "execute_result"
    }
   ],
   "source": [
    "data.shape"
   ]
  },
  {
   "cell_type": "code",
   "execution_count": 123,
   "id": "d67279f4",
   "metadata": {},
   "outputs": [],
   "source": [
    "moseq1 = data[:10000, :]"
   ]
  },
  {
   "cell_type": "code",
   "execution_count": 124,
   "id": "5ac31ef2",
   "metadata": {},
   "outputs": [
    {
     "data": {
      "text/plain": [
       "(10000, 12)"
      ]
     },
     "execution_count": 124,
     "metadata": {},
     "output_type": "execute_result"
    }
   ],
   "source": [
    "moseq1.shape"
   ]
  },
  {
   "cell_type": "code",
   "execution_count": 126,
   "id": "3d29f997",
   "metadata": {},
   "outputs": [],
   "source": [
    "np.save('moseq1_dataset_condition0.npy', moseq1)"
   ]
  },
  {
   "cell_type": "code",
   "execution_count": 138,
   "id": "6783ef21",
   "metadata": {},
   "outputs": [
    {
     "data": {
      "text/plain": [
       "92260"
      ]
     },
     "execution_count": 138,
     "metadata": {},
     "output_type": "execute_result"
    }
   ],
   "source": []
  },
  {
   "cell_type": "code",
   "execution_count": 139,
   "id": "10787f16",
   "metadata": {},
   "outputs": [],
   "source": [
    "moseq1s_lengths = np.array([1250, 1250, 1250, 1250])"
   ]
  },
  {
   "cell_type": "code",
   "execution_count": 140,
   "id": "805f2530",
   "metadata": {},
   "outputs": [],
   "source": [
    "np.save('moseq1_lengths_condition0.npy', moseq1s_lengths)"
   ]
  },
  {
   "cell_type": "code",
   "execution_count": 135,
   "id": "22035e24",
   "metadata": {},
   "outputs": [],
   "source": [
    "leng = np.load('../Data/toy_lengths_condition0.npy')"
   ]
  },
  {
   "cell_type": "code",
   "execution_count": 136,
   "id": "cff8ba4c",
   "metadata": {},
   "outputs": [
    {
     "data": {
      "text/plain": [
       "array([1250, 1250, 1250, 1250])"
      ]
     },
     "execution_count": 136,
     "metadata": {},
     "output_type": "execute_result"
    }
   ],
   "source": [
    "leng # test lengths for BASS model: get how to divide them from moseq."
   ]
  },
  {
   "cell_type": "code",
   "execution_count": 141,
   "id": "b893f547",
   "metadata": {},
   "outputs": [],
   "source": [
    "sul = np.load('../GMM/moseq_covars.npy')"
   ]
  },
  {
   "cell_type": "code",
   "execution_count": 142,
   "id": "98adbe00",
   "metadata": {},
   "outputs": [
    {
     "data": {
      "text/plain": [
       "(26, 12, 12)"
      ]
     },
     "execution_count": 142,
     "metadata": {},
     "output_type": "execute_result"
    }
   ],
   "source": [
    "sul.shape"
   ]
  },
  {
   "cell_type": "markdown",
   "id": "a7ee53d6",
   "metadata": {},
   "source": [
    "## Next Steps:\n"
   ]
  },
  {
   "cell_type": "markdown",
   "id": "84a12574",
   "metadata": {},
   "source": [
    "Command to run BASS: it requires to specify:\n",
    "\n",
    "- Condition\n",
    "- Dataset name\n",
    "- GMM model name\n",
    "\n",
    "Let's analyse their toy data to see how we need to change our data\n"
   ]
  },
  {
   "cell_type": "markdown",
   "id": "bcffdae7",
   "metadata": {},
   "source": [
    "### Toy Data + Condition"
   ]
  },
  {
   "cell_type": "code",
   "execution_count": 1,
   "id": "94a95fc0",
   "metadata": {},
   "outputs": [
    {
     "name": "stdout",
     "output_type": "stream",
     "text": [
      "(5000, 2)\n"
     ]
    }
   ],
   "source": [
    "toy_data = np.load('../Data/toy_dataset_condition0.npy')\n",
    "print(toy_data.shape)# n=5k, features = 2"
   ]
  },
  {
   "cell_type": "code",
   "execution_count": 3,
   "id": "ee89b733",
   "metadata": {},
   "outputs": [
    {
     "name": "stdout",
     "output_type": "stream",
     "text": [
      "(4,)\n",
      "[1250 1250 1250 1250]\n"
     ]
    }
   ],
   "source": [
    "toy_lengths = np.load('../Data/toy_lengths_condition0.npy')\n",
    "print(toy_lengths.shape)\n",
    "print(toy_lengths)# the data has been divided in 4 perfect lengths"
   ]
  },
  {
   "cell_type": "code",
   "execution_count": 4,
   "id": "2f61dbd1",
   "metadata": {},
   "outputs": [
    {
     "name": "stdout",
     "output_type": "stream",
     "text": [
      "1,2,3,4,5,6,7\n",
      "\n"
     ]
    }
   ],
   "source": [
    "toy_names = open('../Data/toy_class_names.txt')\n",
    "print(toy_names.read())# 7 classes names"
   ]
  },
  {
   "cell_type": "markdown",
   "id": "ad6795a5",
   "metadata": {},
   "source": [
    "### Toy GMM"
   ]
  },
  {
   "cell_type": "code",
   "execution_count": 5,
   "id": "60f021cb",
   "metadata": {},
   "outputs": [],
   "source": [
    "toy_cov = np.load('../GMM/toy_covars.npy')\n",
    "toy_mean = np.load('../GMM/toy_means.npy')\n",
    "toy_w = np.load('../GMM/toy_weights.npy')"
   ]
  },
  {
   "cell_type": "code",
   "execution_count": 6,
   "id": "511b2d1a",
   "metadata": {},
   "outputs": [
    {
     "name": "stdout",
     "output_type": "stream",
     "text": [
      "(7, 2, 2)\n",
      "(7, 2)\n",
      "(3, 7)\n"
     ]
    }
   ],
   "source": [
    "print(toy_cov.shape) # each classes has a douple value for each one \n",
    "print(toy_mean.shape) # mean for each classes and feature\n",
    "print(toy_w.shape) # "
   ]
  },
  {
   "cell_type": "markdown",
   "id": "82786d33",
   "metadata": {},
   "source": [
    "What else are we missing?"
   ]
  },
  {
   "cell_type": "markdown",
   "id": "5ccd0151",
   "metadata": {},
   "source": [
    "### Create the Data:"
   ]
  },
  {
   "cell_type": "code",
   "execution_count": 9,
   "id": "e139e346",
   "metadata": {},
   "outputs": [
    {
     "name": "stdout",
     "output_type": "stream",
     "text": [
      "(10000, 12)\n"
     ]
    }
   ],
   "source": [
    "moseq_data_0 = np.load('../Data/moseq1_dataset_condition0.npy')\n",
    "print(moseq_data_0.shape) # n=10k, features = 12"
   ]
  },
  {
   "cell_type": "code",
   "execution_count": 18,
   "id": "1dacb7cb",
   "metadata": {},
   "outputs": [
    {
     "name": "stdout",
     "output_type": "stream",
     "text": [
      "(4,)\n",
      "[1250 1250 1250 1250]\n"
     ]
    }
   ],
   "source": [
    "# divide the lengths as with the toy data in 4?\n",
    "moseq_len = np.load('../Data/moseq1_lengths_condition0.npy')\n",
    "print(moseq_len.shape)\n",
    "print(moseq_len)\n",
    "moseq_len = np.array([2500, 2500, 2500, 2500])\n",
    "np.save('../Data/moseq1_lengths_condition0.npy', moseq_len)"
   ]
  },
  {
   "cell_type": "markdown",
   "id": "4df8ace0",
   "metadata": {},
   "source": [
    "Now, we need to obtain the covariance, means and weigths for each of the classes (which are the syllabels), how to do that? first we should explore the class names:\n"
   ]
  },
  {
   "cell_type": "code",
   "execution_count": 19,
   "id": "decb6355",
   "metadata": {},
   "outputs": [
    {
     "name": "stdout",
     "output_type": "stream",
     "text": [
      "0,1,2,3,4,5,6,7,8,9,10,11,12,13,14,15,16,18,19,20,21,22,23,24,25\n"
     ]
    }
   ],
   "source": [
    "moseq_names = open('../Data/moseq1_class_names.txt')\n",
    "print(moseq_names.read())# we do have 25 classes in our case, as we don't have the 17 (?)"
   ]
  },
  {
   "cell_type": "markdown",
   "id": "2bedb5d4",
   "metadata": {},
   "source": [
    "Now, we can start by running their GMM model to see how it works in this case:"
   ]
  },
  {
   "cell_type": "code",
   "execution_count": 20,
   "id": "5e8c7364",
   "metadata": {},
   "outputs": [],
   "source": [
    "moseq1_cov = np.load('../GMM/moseq1_covars.npy')\n",
    "moseq1_mean = np.load('../GMM/moseq1_means.npy')\n",
    "moseq1_w = np.load('../GMM/moseq1_weights.npy')"
   ]
  },
  {
   "cell_type": "code",
   "execution_count": 22,
   "id": "e6bb0dec",
   "metadata": {},
   "outputs": [
    {
     "name": "stdout",
     "output_type": "stream",
     "text": [
      "(25, 12, 12)\n",
      "(25, 12)\n",
      "(1, 25)\n"
     ]
    }
   ],
   "source": [
    "print(moseq1_cov.shape)\n",
    "print(moseq1_mean.shape)\n",
    "print(moseq1_w.shape)"
   ]
  },
  {
   "cell_type": "markdown",
   "id": "3402c21d",
   "metadata": {},
   "source": [
    "Now we can analyse quickly how they look by using their notebook:"
   ]
  },
  {
   "cell_type": "code",
   "execution_count": 25,
   "id": "a1f477ca",
   "metadata": {},
   "outputs": [],
   "source": [
    "# now we create a subset for BASS that is like .02 of the whole data so 2k\n",
    "moseq1s = moseq_data_0[:2000]\n",
    "np.save('../Data/moseq1s_dataset_condition0.npy', moseq1s)"
   ]
  },
  {
   "cell_type": "code",
   "execution_count": null,
   "id": "b7d1cb6e",
   "metadata": {},
   "outputs": [],
   "source": [
    "moseq1s_len = np.array([1250, 1250, 1250, 1250])"
   ]
  },
  {
   "cell_type": "code",
   "execution_count": 29,
   "id": "ca731983",
   "metadata": {},
   "outputs": [],
   "source": [
    "words = np.load('../Results/moseq1/moseq1s_condition_0_seg_bouttypes.npy')"
   ]
  },
  {
   "cell_type": "code",
   "execution_count": 30,
   "id": "56350d59",
   "metadata": {},
   "outputs": [
    {
     "data": {
      "text/plain": [
       "array([24, 14, 14, ...,  6,  6,  6])"
      ]
     },
     "execution_count": 30,
     "metadata": {},
     "output_type": "execute_result"
    }
   ],
   "source": [
    "words"
   ]
  },
  {
   "cell_type": "markdown",
   "id": "12ce77d0",
   "metadata": {},
   "source": [
    "### get GMM data from moseq:"
   ]
  },
  {
   "cell_type": "code",
   "execution_count": 49,
   "id": "1e25caef",
   "metadata": {},
   "outputs": [
    {
     "data": {
      "text/plain": [
       "(10000, 12)"
      ]
     },
     "execution_count": 49,
     "metadata": {},
     "output_type": "execute_result"
    }
   ],
   "source": [
    "moseq_data_0.shape"
   ]
  },
  {
   "cell_type": "code",
   "execution_count": 51,
   "id": "dd23b4be",
   "metadata": {},
   "outputs": [
    {
     "data": {
      "text/plain": [
       "dict_keys(['centroid', 'heading', 'latent_state', 'syllable', 'type'])"
      ]
     },
     "execution_count": 51,
     "metadata": {},
     "output_type": "execute_result"
    }
   ],
   "source": [
    "syllable_seq_data['Ctrl1_d1DLC_resnet50_r2_below-camera_paws-spineFeb2shuffle1_100000'].keys()"
   ]
  },
  {
   "cell_type": "code",
   "execution_count": 58,
   "id": "4a287b94",
   "metadata": {},
   "outputs": [
    {
     "name": "stdout",
     "output_type": "stream",
     "text": [
      "(45588, 2) (45588,) (45588, 8)\n"
     ]
    }
   ],
   "source": [
    "cent = syllable_seq_data['Ctrl1_d1DLC_resnet50_r2_below-camera_paws-spineFeb2shuffle1_100000']['centroid']\n",
    "head = syllable_seq_data['Ctrl1_d1DLC_resnet50_r2_below-camera_paws-spineFeb2shuffle1_100000']['heading']\n",
    "pcas = syllable_seq_data['Ctrl1_d1DLC_resnet50_r2_below-camera_paws-spineFeb2shuffle1_100000']['latent_state']\n",
    "print(cent.shape, head.shape, pcas.shape)"
   ]
  },
  {
   "cell_type": "code",
   "execution_count": 73,
   "id": "315d6e6b",
   "metadata": {},
   "outputs": [],
   "source": [
    "array2_reshaped = np.expand_dims(head, axis=1)\n",
    "\n",
    "# Concatenate along the second axis\n",
    "combined_array = np.concatenate((cent, array2_reshaped, pcas), axis=1)"
   ]
  },
  {
   "cell_type": "code",
   "execution_count": 74,
   "id": "35c8c05c",
   "metadata": {},
   "outputs": [],
   "source": [
    "np.save('../Data/moseq2s_dataset_condition0.npy', combined_array)"
   ]
  },
  {
   "cell_type": "code",
   "execution_count": 75,
   "id": "3b03c7e7",
   "metadata": {},
   "outputs": [],
   "source": [
    "lens = np.array([45588])\n",
    "np.save('../Data/moseq2s_lengths_condition0.npy', lens)"
   ]
  },
  {
   "cell_type": "code",
   "execution_count": 68,
   "id": "1f9d5b12",
   "metadata": {},
   "outputs": [
    {
     "data": {
      "text/plain": [
       "(38,)"
      ]
     },
     "execution_count": 68,
     "metadata": {},
     "output_type": "execute_result"
    }
   ],
   "source": [
    "unique_labels = np.unique(labels)\n",
    "unique_labels.shape"
   ]
  },
  {
   "cell_type": "code",
   "execution_count": 86,
   "id": "abd052a5",
   "metadata": {},
   "outputs": [
    {
     "data": {
      "text/plain": [
       "(45588, 11)"
      ]
     },
     "execution_count": 86,
     "metadata": {},
     "output_type": "execute_result"
    }
   ],
   "source": [
    "combined_array.shape"
   ]
  },
  {
   "cell_type": "code",
   "execution_count": 90,
   "id": "3b405c4e",
   "metadata": {
    "scrolled": true
   },
   "outputs": [
    {
     "name": "stdout",
     "output_type": "stream",
     "text": [
      "(38, 11) (38, 11, 11) (1, 38)\n",
      "Means:\n",
      " [[ 2.04449170e+02  1.75006808e+02  1.07704452e+00  5.31624908e-01\n",
      "   1.30619417e-01  3.32989168e-02 -5.21700828e-02 -1.31107547e-01\n",
      "  -1.06264372e-02 -3.65930594e-01  2.93007210e-02]\n",
      " [ 1.84289697e+02  1.11457549e+02  1.19983063e+00  2.84473325e-01\n",
      "   1.31963257e-01  1.76550594e-01 -1.74783802e-01 -3.39604466e-01\n",
      "   2.49612967e-01 -4.90555068e-01 -7.85205261e-02]\n",
      " [ 1.97852107e+02  4.27153448e+02  5.80839562e-01  1.34630738e+00\n",
      "   2.89379398e-01 -6.29004119e-02  2.15271004e-01  2.12869835e-01\n",
      "  -3.35121210e-01  1.43426151e-01 -8.97252996e-02]\n",
      " [ 2.57035022e+02  2.73084295e+02  9.90070262e-01  1.07756981e+00\n",
      "   2.29383156e-02  8.55551495e-03  5.20415091e-02  1.18272997e-01\n",
      "  -2.38953701e-01 -1.80488347e-01 -6.82127356e-02]\n",
      " [ 2.17729622e+02  2.51584268e+02  6.37070482e-01  2.49335810e-01\n",
      "   9.40420941e-01  3.58448485e-03  1.50466877e-01 -2.29525970e-01\n",
      "   5.92044435e-02  1.96274558e-02 -4.07419295e-01]\n",
      " [ 2.59696370e+02  3.48455090e+02  2.52612096e-01  1.11696509e+00\n",
      "   3.14330704e-01  2.21574860e-02  1.86248058e-01  2.25374707e-01\n",
      "  -9.11774444e-02  2.51949481e-01  8.91478558e-02]\n",
      " [ 1.51413559e+02  1.34715609e+02 -2.20185975e-01 -1.76556352e+00\n",
      "  -1.21374742e-01  2.70602630e+00 -9.35515530e-03 -1.16678297e+00\n",
      "  -1.19164803e+00  9.17597385e-01 -1.13207472e-01]\n",
      " [ 1.56478376e+02  1.24600941e+02  2.92390151e-01 -9.26661504e-01\n",
      "   2.61766425e-01  7.86078558e-01 -1.15510462e-01 -4.40818174e-01\n",
      "  -4.72402946e-01  6.23370065e-01 -6.67257352e-01]\n",
      " [ 1.80588643e+02  3.67131701e+02 -5.73384351e-01  4.15635779e-03\n",
      "  -1.10724905e+00 -1.97547143e-01 -1.29835105e-01  3.14457497e-01\n",
      "  -1.74840843e-01 -2.36598850e-01  2.40669542e-01]\n",
      " [ 2.30627955e+02  2.01181387e+02 -2.42049028e-01  1.85916585e-01\n",
      "   4.33336007e-01 -7.35790850e-02  3.98595174e-02  2.73333231e-01\n",
      "   2.34293415e-01  4.38330890e-01 -2.09211131e-01]\n",
      " [ 2.36191169e+02  3.63481234e+02  3.96388537e-01  5.57779390e-01\n",
      "  -1.54494342e-01 -1.37588342e-01  9.13088500e-02  3.25387283e-01\n",
      "  -3.42262992e-01  2.33661195e-01 -2.25401021e-02]\n",
      " [ 2.47041625e+02  2.76656483e+02  1.39591667e-01  4.26381583e-01\n",
      "   1.04460584e+00 -6.30508839e-02  3.13719116e-01 -2.41809506e-01\n",
      "  -9.56803072e-02  3.70136910e-02 -9.21914198e-01]\n",
      " [ 1.52621947e+02  1.81716977e+02  4.81257033e-01 -2.77110358e-02\n",
      "  -7.80374183e-01 -1.00340062e-01 -2.36032671e-01  1.52495040e-01\n",
      "  -2.38989639e-02 -3.97041058e-01  5.77826622e-01]\n",
      " [ 2.57243495e+02  5.83600947e+02  1.54817587e-01  6.09257278e-01\n",
      "  -5.80451894e-01 -2.35991819e-01  1.58564453e-01 -3.01812587e-01\n",
      "   1.59472397e+00 -2.01134280e+00 -8.59315744e-01]\n",
      " [ 2.38295303e+02  5.36733726e+02 -1.38042090e+00  1.09061423e+00\n",
      "  -2.83487937e-01  9.87920874e-02  5.57776262e-02 -1.01143885e-01\n",
      "  -5.19883248e-01 -3.69776440e-01  2.38755645e-01]\n",
      " [ 2.14850919e+02  3.92276305e+02 -2.56419204e-01  1.11761548e+00\n",
      "  -1.35548639e-01 -2.07559524e-02  9.80126559e-02  2.13801350e-01\n",
      "  -9.41599125e-02  1.07175867e-01 -1.18652095e-01]\n",
      " [ 2.53326436e+02  1.85620297e+02 -1.83977498e-01 -1.41614521e+00\n",
      "   1.90502397e-01  6.13520262e-01  3.04678506e-02  1.91123428e-01\n",
      "  -6.03076936e-01  5.54238641e-01 -1.96282967e-01]\n",
      " [ 3.52097129e+02  7.24286282e+02 -6.73166495e-01 -8.87864040e-01\n",
      "   1.21652082e+00  9.85158363e-02 -2.82293747e-01 -1.14519258e+00\n",
      "   7.34768319e+00 -4.09853393e+00  9.98572439e-01]\n",
      " [ 1.87511968e+02  1.04325551e+02  1.89400559e+00  9.21425951e-01\n",
      "  -6.46944482e-01 -5.17748628e-02 -5.78173947e-02  4.78868582e-02\n",
      "  -4.76937676e-01 -1.86618741e-01  8.10727748e-02]\n",
      " [ 1.62480077e+02  1.26412423e+02 -1.88019852e+00 -1.36536395e+00\n",
      "  -7.01638785e-01 -5.13455650e-02 -1.56001898e-01  4.11871237e-02\n",
      "  -6.95928756e-01  1.06488055e-01 -1.04644954e+00]\n",
      " [ 2.81090027e+02  5.60383329e+01  4.70717596e-01 -1.24304792e+00\n",
      "   6.64558150e-02 -7.95449747e-02 -1.43057859e-01  6.72836070e-01\n",
      "   4.27626270e-01  4.43299371e-01  1.83881507e-01]\n",
      " [ 2.67983631e+02  4.52278795e+02  1.28659038e+00  2.12916370e+00\n",
      "   1.29927863e-01 -3.27321408e-01  3.56417949e-01  7.35958448e-01\n",
      "  -8.86634930e-01  5.51378319e-01 -8.57480352e-02]\n",
      " [ 2.44903379e+02  3.17573216e+02  4.48242112e-02 -6.17906064e-01\n",
      "   1.23498430e-02 -8.96148334e-02 -1.68640431e-01 -1.17080154e-01\n",
      "   3.11224304e-01 -2.19519588e-01  5.86438796e-01]\n",
      " [ 2.55020376e+02  2.10063921e+02  1.06440717e+00 -3.01765591e-01\n",
      "   1.02719783e-02 -3.62343126e-01 -1.21326820e-01  3.27481085e-02\n",
      "   2.56230423e-01 -2.37242527e-01  2.43454533e-01]\n",
      " [ 1.51440564e+02  1.31334578e+02  3.62565880e-01 -4.33671527e-01\n",
      "   5.96658557e-01  9.72398559e-01 -4.10749929e-01 -9.92770302e-01\n",
      "  -7.94477582e-01  9.75348739e-01 -9.76363837e-01]\n",
      " [ 2.11819387e+02  1.57939979e+02  1.88133053e-01 -1.92458111e+00\n",
      "   9.00666663e-01  2.01973465e+00 -1.30207092e-01 -1.48798542e+00\n",
      "  -1.17668233e+00  1.37686782e+00  2.94277956e-02]\n",
      " [ 4.06619044e+02  2.41188039e+02 -5.90448074e-01 -1.98776806e+00\n",
      "  -1.04833198e+00  1.18709003e+00 -1.61265219e+00  3.22812862e-01\n",
      "  -1.43271863e+00 -1.11393269e+00  6.23671339e-02]\n",
      " [ 2.85026557e+02  5.35165048e+02  6.44574764e-02  1.77391363e-01\n",
      "   6.99643171e-01 -9.82153887e-04  8.63344189e-03  3.61519326e-02\n",
      "  -2.91670205e-01  3.77720579e-01 -6.34693948e-01]\n",
      " [ 3.75019150e+02  8.57975514e+01  1.73476200e+00 -8.53943870e-01\n",
      "  -3.23498717e-01 -1.22577981e+00 -4.92870287e-01  2.44355911e-01\n",
      "   1.92529383e-01 -1.97192521e-01 -5.97967618e-01]\n",
      " [ 5.14401916e+01  5.97377304e+01  1.99226931e+00 -9.72786785e-01\n",
      "   2.97034079e-01 -6.11195429e-01 -1.18183282e-01 -5.60036193e-01\n",
      "   2.95515181e-01  4.33245399e-04 -1.95598455e-01]\n",
      " [ 3.14266158e+02  3.15328942e+02  9.41999758e-01 -4.77540281e-01\n",
      "   8.28289806e-02 -8.62038010e-01  1.40533716e-01  4.93974407e-01\n",
      "  -7.85197499e-03 -9.97056041e-03 -8.44686850e-02]\n",
      " [ 1.64164961e+02  3.77824947e+02 -7.05045297e-02  4.52831633e-01\n",
      "   2.44585005e-01  1.11970354e-01  2.15078096e-02 -1.52315763e-01\n",
      "  -7.14929613e-03 -3.65780332e-01 -6.45684211e-01]\n",
      " [ 8.69183032e+01  5.48192848e+01 -1.20304787e+00 -2.71384510e+00\n",
      "  -5.23514344e-01  5.53755319e+00  5.87121498e-02 -9.70207759e-01\n",
      "  -2.36353894e+00  9.36668485e-01  4.39702710e-01]\n",
      " [ 7.79522722e+01  1.64096760e+02  1.44781946e+00  8.13207179e+00\n",
      "  -1.61618939e+00  3.57567409e+01  2.34575816e+01  8.66800478e+00\n",
      "   8.96082866e+00 -1.10554756e+01  3.86140767e+00]\n",
      " [ 2.82909668e+02  8.49253773e+01  2.66184751e+00  1.64613133e+00\n",
      "   5.40342837e-02 -2.58472272e-01 -1.22531489e-01  2.18741603e-01\n",
      "   4.86465481e-02  4.90599856e-02 -3.05386563e-01]\n",
      " [ 1.67523968e+02  5.08885870e+01 -2.65670267e+00 -2.03972429e+00\n",
      "  -1.47425774e+00  1.23634936e+00 -4.63660990e-01 -1.08064746e-01\n",
      "  -1.84495846e+00  1.17330092e+00 -6.20825243e-01]\n",
      " [ 7.74944261e+01  1.35316579e+02  1.35941263e+00  9.34657076e+00\n",
      "  -8.26744655e-01  4.15177474e+01  2.87954628e+01  1.22960276e+01\n",
      "   9.84593955e+00 -1.55961332e+01  9.85736346e+00]\n",
      " [ 3.76376310e+02  8.81163629e+01  1.64072897e+00 -5.78630021e-01\n",
      "  -4.99709610e-01  8.06556649e-02 -9.85190859e-01 -5.25397768e-01\n",
      "   1.01121591e+00  2.93608296e-01  1.14948589e+00]]\n",
      "Covariances:\n",
      " [[[ 2.15661475e+04 -3.80264209e+03  2.18372091e+01 ... -9.48093801e+00\n",
      "   -3.53903311e+00  5.92959749e+00]\n",
      "  [-3.80264209e+03  5.39986543e+04 -3.40177200e+01 ... -2.65431189e+01\n",
      "    1.13214928e+01  1.66200687e+00]\n",
      "  [ 2.18372091e+01 -3.40177200e+01  1.92345614e+00 ... -1.65004143e-01\n",
      "    6.88573049e-02  1.01121658e-01]\n",
      "  ...\n",
      "  [-9.48093801e+00 -2.65431189e+01 -1.65004143e-01 ...  4.97383932e-01\n",
      "   -1.42117015e-01 -1.41592664e-02]\n",
      "  [-3.53903311e+00  1.13214928e+01  6.88573049e-02 ... -1.42117015e-01\n",
      "    6.83920371e-01 -1.98254416e-01]\n",
      "  [ 5.92959749e+00  1.66200687e+00  1.01121658e-01 ... -1.41592664e-02\n",
      "   -1.98254416e-01  1.14146607e+00]]\n",
      "\n",
      " [[ 1.92185899e+04 -3.43445018e+02  7.45085015e+01 ... -1.15059674e+01\n",
      "    1.02240633e+00  2.32835975e+01]\n",
      "  [-3.43445018e+02  2.84391457e+04 -7.39658805e+00 ... -2.32731775e+01\n",
      "    2.32919079e+00  4.03544586e+00]\n",
      "  [ 7.45085015e+01 -7.39658805e+00  1.37330058e+00 ... -9.92267645e-02\n",
      "    9.91268231e-02  2.03694491e-01]\n",
      "  ...\n",
      "  [-1.15059674e+01 -2.32731775e+01 -9.92267645e-02 ...  3.81894007e-01\n",
      "   -5.30613274e-02 -9.03298888e-02]\n",
      "  [ 1.02240633e+00  2.32919079e+00  9.91268231e-02 ... -5.30613274e-02\n",
      "    5.56614245e-01 -2.07931995e-01]\n",
      "  [ 2.32835975e+01  4.03544586e+00  2.03694491e-01 ... -9.03298888e-02\n",
      "   -2.07931995e-01  1.10259137e+00]]\n",
      "\n",
      " [[ 1.62762388e+04 -7.89302227e+03  1.74152866e+01 ...  2.98002897e+00\n",
      "   -1.03336365e+01 -3.86057388e+00]\n",
      "  [-7.89302227e+03  1.04811443e+05 -6.29280166e+01 ... -1.35838366e+01\n",
      "    5.92013490e+00 -5.07127666e+00]\n",
      "  [ 1.74152866e+01 -6.29280166e+01  2.61025460e+00 ... -2.11937942e-01\n",
      "    6.47218755e-02  1.16206480e-01]\n",
      "  ...\n",
      "  [ 2.98002897e+00 -1.35838366e+01 -2.11937942e-01 ...  8.49766735e-01\n",
      "    5.94152517e-01 -2.28733230e-01]\n",
      "  [-1.03336365e+01  5.92013490e+00  6.47218755e-02 ...  5.94152517e-01\n",
      "    1.43008939e+00 -4.16704137e-01]\n",
      "  [-3.86057388e+00 -5.07127666e+00  1.16206480e-01 ... -2.28733230e-01\n",
      "   -4.16704137e-01  7.72490248e-01]]\n",
      "\n",
      " ...\n",
      "\n",
      " [[ 5.22554453e+01 -1.22205715e+01 -4.90246608e-01 ... -2.98618295e+00\n",
      "    3.24731364e+00  3.26303562e+00]\n",
      "  [-1.22205715e+01  4.25747259e+00  1.16431380e-02 ...  5.11042512e-01\n",
      "   -4.10217764e-01 -7.67686544e-01]\n",
      "  [-4.90246608e-01  1.16431380e-02  3.13607492e-02 ...  7.30448777e-02\n",
      "   -7.79776922e-02 -6.32703022e-02]\n",
      "  ...\n",
      "  [-2.98618295e+00  5.11042512e-01  7.30448777e-02 ...  2.49157433e-01\n",
      "   -2.65813668e-01 -2.44226154e-01]\n",
      "  [ 3.24731364e+00 -4.10217764e-01 -7.79776922e-02 ... -2.65813668e-01\n",
      "    3.32721003e-01  2.52708859e-01]\n",
      "  [ 3.26303562e+00 -7.67686544e-01 -6.32703022e-02 ... -2.44226154e-01\n",
      "    2.52708859e-01  2.90510731e-01]]\n",
      "\n",
      " [[ 1.88443440e+03  1.88443440e+03  1.88443440e+03 ...  1.88443440e+03\n",
      "    1.88443440e+03  1.88443440e+03]\n",
      "  [ 1.88443440e+03  1.88443440e+03  1.88443440e+03 ...  1.88443440e+03\n",
      "    1.88443440e+03  1.88443440e+03]\n",
      "  [ 1.88443440e+03  1.88443440e+03  1.88443440e+03 ...  1.88443440e+03\n",
      "    1.88443440e+03  1.88443440e+03]\n",
      "  ...\n",
      "  [ 1.88443440e+03  1.88443440e+03  1.88443440e+03 ...  1.88443440e+03\n",
      "    1.88443440e+03  1.88443440e+03]\n",
      "  [ 1.88443440e+03  1.88443440e+03  1.88443440e+03 ...  1.88443440e+03\n",
      "    1.88443440e+03  1.88443440e+03]\n",
      "  [ 1.88443440e+03  1.88443440e+03  1.88443440e+03 ...  1.88443440e+03\n",
      "    1.88443440e+03  1.88443440e+03]]\n",
      "\n",
      " [[ 2.23918247e+00 -2.30665441e+00 -1.26750736e-01 ... -6.08707753e-02\n",
      "   -4.25654669e-01  6.68093420e-01]\n",
      "  [-2.30665441e+00  4.00871361e+00  1.43871897e-01 ...  4.50294711e-01\n",
      "    1.43328968e+00 -9.85141369e-01]\n",
      "  [-1.26750736e-01  1.43871897e-01  7.34823222e-03 ...  9.08680354e-03\n",
      "    3.77837863e-02 -3.93095161e-02]\n",
      "  ...\n",
      "  [-6.08707753e-02  4.50294711e-01  9.08680354e-03 ...  1.88501593e-01\n",
      "    4.60986243e-01 -5.32259737e-02]\n",
      "  [-4.25654669e-01  1.43328968e+00  3.77837863e-02 ...  4.60986243e-01\n",
      "    1.16659689e+00 -2.28264630e-01]\n",
      "  [ 6.68093420e-01 -9.85141369e-01 -3.93095161e-02 ... -5.32259737e-02\n",
      "   -2.28264630e-01  2.66572328e-01]]]\n",
      "Weights:\n",
      " [[2.29819251e-01 3.71610950e-01 8.47152759e-02 1.25076775e-01\n",
      "  4.64157234e-02 2.89549882e-03 5.81293323e-03 1.81188032e-02\n",
      "  8.75230324e-03 2.93937001e-03 4.91357375e-03 5.98841800e-03\n",
      "  1.85355795e-02 2.32517329e-03 7.89681495e-04 1.04852154e-02\n",
      "  3.53163113e-03 1.31613583e-04 1.71097657e-03 2.76388523e-03\n",
      "  1.00903747e-03 1.86452575e-02 5.87874002e-03 6.82197069e-03\n",
      "  3.77292270e-03 7.01939107e-04 6.36132316e-04 2.25936650e-03\n",
      "  2.19355971e-04 9.21295078e-04 6.97551987e-03 3.11485479e-03\n",
      "  3.07098359e-04 6.58067913e-04 4.16776345e-04 2.19355971e-04\n",
      "  2.19355971e-05 8.77423883e-05]]\n"
     ]
    }
   ],
   "source": [
    "\n",
    "\n",
    "\n",
    "data =  combined_array\n",
    "\n",
    "\n",
    "\n",
    "features = combined_array\n",
    "labels = labels\n",
    "\n",
    "unique_labels = np.unique(labels)\n",
    "\n",
    "means = np.zeros((len(unique_labels), features.shape[1]))\n",
    "covariances = np.zeros((len(unique_labels), features.shape[1], features.shape[1]))\n",
    "weights = np.zeros(len(unique_labels))\n",
    "\n",
    "for i, label in enumerate(unique_labels):\n",
    "    \n",
    "    label_data = features[labels == label]\n",
    "    \n",
    "    \n",
    "    mean = np.mean(label_data, axis=0)\n",
    "    means[i, :] = mean\n",
    "    \n",
    "    \n",
    "    covariance = np.cov(label_data, rowvar=False)\n",
    "    covariances[i, :, :] = covariance\n",
    "    \n",
    "    \n",
    "    weight = label_data.shape[0] / features.shape[0]\n",
    "    weights[i] = weight\n",
    "\n",
    "weights = weights.reshape(1, -1)\n",
    "\n",
    "\n",
    "print(means.shape, covariances.shape, weights.shape)\n",
    "print(\"Means:\\n\", means)\n",
    "\n",
    "print(\"Covariances:\\n\", covariances)\n",
    "print(\"Weights:\\n\", weights)\n"
   ]
  },
  {
   "cell_type": "code",
   "execution_count": 99,
   "id": "8b528611",
   "metadata": {},
   "outputs": [
    {
     "name": "stdout",
     "output_type": "stream",
     "text": [
      "Means:\n",
      " [[ 2.04449170e+02  1.75006808e+02  1.07704452e+00  5.31624908e-01\n",
      "   1.30619417e-01  3.32989168e-02 -5.21700828e-02 -1.31107547e-01\n",
      "  -1.06264372e-02 -3.65930594e-01  2.93007210e-02]\n",
      " [ 1.84289697e+02  1.11457549e+02  1.19983063e+00  2.84473325e-01\n",
      "   1.31963257e-01  1.76550594e-01 -1.74783802e-01 -3.39604466e-01\n",
      "   2.49612967e-01 -4.90555068e-01 -7.85205261e-02]\n",
      " [ 1.97852107e+02  4.27153448e+02  5.80839562e-01  1.34630738e+00\n",
      "   2.89379398e-01 -6.29004119e-02  2.15271004e-01  2.12869835e-01\n",
      "  -3.35121210e-01  1.43426151e-01 -8.97252996e-02]\n",
      " [ 2.57035022e+02  2.73084295e+02  9.90070262e-01  1.07756981e+00\n",
      "   2.29383156e-02  8.55551495e-03  5.20415091e-02  1.18272997e-01\n",
      "  -2.38953701e-01 -1.80488347e-01 -6.82127356e-02]\n",
      " [ 2.17729622e+02  2.51584268e+02  6.37070482e-01  2.49335810e-01\n",
      "   9.40420941e-01  3.58448485e-03  1.50466877e-01 -2.29525970e-01\n",
      "   5.92044435e-02  1.96274558e-02 -4.07419295e-01]\n",
      " [ 2.59696370e+02  3.48455090e+02  2.52612096e-01  1.11696509e+00\n",
      "   3.14330704e-01  2.21574860e-02  1.86248058e-01  2.25374707e-01\n",
      "  -9.11774444e-02  2.51949481e-01  8.91478558e-02]\n",
      " [ 1.51413559e+02  1.34715609e+02 -2.20185975e-01 -1.76556352e+00\n",
      "  -1.21374742e-01  2.70602630e+00 -9.35515530e-03 -1.16678297e+00\n",
      "  -1.19164803e+00  9.17597385e-01 -1.13207472e-01]\n",
      " [ 1.56478376e+02  1.24600941e+02  2.92390151e-01 -9.26661504e-01\n",
      "   2.61766425e-01  7.86078558e-01 -1.15510462e-01 -4.40818174e-01\n",
      "  -4.72402946e-01  6.23370065e-01 -6.67257352e-01]\n",
      " [ 1.80588643e+02  3.67131701e+02 -5.73384351e-01  4.15635779e-03\n",
      "  -1.10724905e+00 -1.97547143e-01 -1.29835105e-01  3.14457497e-01\n",
      "  -1.74840843e-01 -2.36598850e-01  2.40669542e-01]\n",
      " [ 2.30627955e+02  2.01181387e+02 -2.42049028e-01  1.85916585e-01\n",
      "   4.33336007e-01 -7.35790850e-02  3.98595174e-02  2.73333231e-01\n",
      "   2.34293415e-01  4.38330890e-01 -2.09211131e-01]\n",
      " [ 2.36191169e+02  3.63481234e+02  3.96388537e-01  5.57779390e-01\n",
      "  -1.54494342e-01 -1.37588342e-01  9.13088500e-02  3.25387283e-01\n",
      "  -3.42262992e-01  2.33661195e-01 -2.25401021e-02]\n",
      " [ 2.47041625e+02  2.76656483e+02  1.39591667e-01  4.26381583e-01\n",
      "   1.04460584e+00 -6.30508839e-02  3.13719116e-01 -2.41809506e-01\n",
      "  -9.56803072e-02  3.70136910e-02 -9.21914198e-01]\n",
      " [ 1.52621947e+02  1.81716977e+02  4.81257033e-01 -2.77110358e-02\n",
      "  -7.80374183e-01 -1.00340062e-01 -2.36032671e-01  1.52495040e-01\n",
      "  -2.38989639e-02 -3.97041058e-01  5.77826622e-01]\n",
      " [ 2.57243495e+02  5.83600947e+02  1.54817587e-01  6.09257278e-01\n",
      "  -5.80451894e-01 -2.35991819e-01  1.58564453e-01 -3.01812587e-01\n",
      "   1.59472397e+00 -2.01134280e+00 -8.59315744e-01]\n",
      " [ 2.38295303e+02  5.36733726e+02 -1.38042090e+00  1.09061423e+00\n",
      "  -2.83487937e-01  9.87920874e-02  5.57776262e-02 -1.01143885e-01\n",
      "  -5.19883248e-01 -3.69776440e-01  2.38755645e-01]\n",
      " [ 2.14850919e+02  3.92276305e+02 -2.56419204e-01  1.11761548e+00\n",
      "  -1.35548639e-01 -2.07559524e-02  9.80126559e-02  2.13801350e-01\n",
      "  -9.41599125e-02  1.07175867e-01 -1.18652095e-01]\n",
      " [ 2.53326436e+02  1.85620297e+02 -1.83977498e-01 -1.41614521e+00\n",
      "   1.90502397e-01  6.13520262e-01  3.04678506e-02  1.91123428e-01\n",
      "  -6.03076936e-01  5.54238641e-01 -1.96282967e-01]\n",
      " [ 3.52097129e+02  7.24286282e+02 -6.73166495e-01 -8.87864040e-01\n",
      "   1.21652082e+00  9.85158363e-02 -2.82293747e-01 -1.14519258e+00\n",
      "   7.34768319e+00 -4.09853393e+00  9.98572439e-01]\n",
      " [ 1.87511968e+02  1.04325551e+02  1.89400559e+00  9.21425951e-01\n",
      "  -6.46944482e-01 -5.17748628e-02 -5.78173947e-02  4.78868582e-02\n",
      "  -4.76937676e-01 -1.86618741e-01  8.10727748e-02]\n",
      " [ 1.62480077e+02  1.26412423e+02 -1.88019852e+00 -1.36536395e+00\n",
      "  -7.01638785e-01 -5.13455650e-02 -1.56001898e-01  4.11871237e-02\n",
      "  -6.95928756e-01  1.06488055e-01 -1.04644954e+00]\n",
      " [ 2.81090027e+02  5.60383329e+01  4.70717596e-01 -1.24304792e+00\n",
      "   6.64558150e-02 -7.95449747e-02 -1.43057859e-01  6.72836070e-01\n",
      "   4.27626270e-01  4.43299371e-01  1.83881507e-01]\n",
      " [ 2.67983631e+02  4.52278795e+02  1.28659038e+00  2.12916370e+00\n",
      "   1.29927863e-01 -3.27321408e-01  3.56417949e-01  7.35958448e-01\n",
      "  -8.86634930e-01  5.51378319e-01 -8.57480352e-02]\n",
      " [ 2.44903379e+02  3.17573216e+02  4.48242112e-02 -6.17906064e-01\n",
      "   1.23498430e-02 -8.96148334e-02 -1.68640431e-01 -1.17080154e-01\n",
      "   3.11224304e-01 -2.19519588e-01  5.86438796e-01]\n",
      " [ 2.55020376e+02  2.10063921e+02  1.06440717e+00 -3.01765591e-01\n",
      "   1.02719783e-02 -3.62343126e-01 -1.21326820e-01  3.27481085e-02\n",
      "   2.56230423e-01 -2.37242527e-01  2.43454533e-01]\n",
      " [ 1.51440564e+02  1.31334578e+02  3.62565880e-01 -4.33671527e-01\n",
      "   5.96658557e-01  9.72398559e-01 -4.10749929e-01 -9.92770302e-01\n",
      "  -7.94477582e-01  9.75348739e-01 -9.76363837e-01]\n",
      " [ 2.11819387e+02  1.57939979e+02  1.88133053e-01 -1.92458111e+00\n",
      "   9.00666663e-01  2.01973465e+00 -1.30207092e-01 -1.48798542e+00\n",
      "  -1.17668233e+00  1.37686782e+00  2.94277956e-02]\n",
      " [ 4.06619044e+02  2.41188039e+02 -5.90448074e-01 -1.98776806e+00\n",
      "  -1.04833198e+00  1.18709003e+00 -1.61265219e+00  3.22812862e-01\n",
      "  -1.43271863e+00 -1.11393269e+00  6.23671339e-02]\n",
      " [ 2.85026557e+02  5.35165048e+02  6.44574764e-02  1.77391363e-01\n",
      "   6.99643171e-01 -9.82153887e-04  8.63344189e-03  3.61519326e-02\n",
      "  -2.91670205e-01  3.77720579e-01 -6.34693948e-01]\n",
      " [ 3.75019150e+02  8.57975514e+01  1.73476200e+00 -8.53943870e-01\n",
      "  -3.23498717e-01 -1.22577981e+00 -4.92870287e-01  2.44355911e-01\n",
      "   1.92529383e-01 -1.97192521e-01 -5.97967618e-01]\n",
      " [ 5.14401916e+01  5.97377304e+01  1.99226931e+00 -9.72786785e-01\n",
      "   2.97034079e-01 -6.11195429e-01 -1.18183282e-01 -5.60036193e-01\n",
      "   2.95515181e-01  4.33245399e-04 -1.95598455e-01]\n",
      " [ 3.14266158e+02  3.15328942e+02  9.41999758e-01 -4.77540281e-01\n",
      "   8.28289806e-02 -8.62038010e-01  1.40533716e-01  4.93974407e-01\n",
      "  -7.85197499e-03 -9.97056041e-03 -8.44686850e-02]\n",
      " [ 1.64164961e+02  3.77824947e+02 -7.05045297e-02  4.52831633e-01\n",
      "   2.44585005e-01  1.11970354e-01  2.15078096e-02 -1.52315763e-01\n",
      "  -7.14929613e-03 -3.65780332e-01 -6.45684211e-01]\n",
      " [ 8.69183032e+01  5.48192848e+01 -1.20304787e+00 -2.71384510e+00\n",
      "  -5.23514344e-01  5.53755319e+00  5.87121498e-02 -9.70207759e-01\n",
      "  -2.36353894e+00  9.36668485e-01  4.39702710e-01]\n",
      " [ 7.79522722e+01  1.64096760e+02  1.44781946e+00  8.13207179e+00\n",
      "  -1.61618939e+00  3.57567409e+01  2.34575816e+01  8.66800478e+00\n",
      "   8.96082866e+00 -1.10554756e+01  3.86140767e+00]\n",
      " [ 2.82909668e+02  8.49253773e+01  2.66184751e+00  1.64613133e+00\n",
      "   5.40342837e-02 -2.58472272e-01 -1.22531489e-01  2.18741603e-01\n",
      "   4.86465481e-02  4.90599856e-02 -3.05386563e-01]\n",
      " [ 1.67523968e+02  5.08885870e+01 -2.65670267e+00 -2.03972429e+00\n",
      "  -1.47425774e+00  1.23634936e+00 -4.63660990e-01 -1.08064746e-01\n",
      "  -1.84495846e+00  1.17330092e+00 -6.20825243e-01]\n",
      " [ 7.74944261e+01  1.35316579e+02  1.35941263e+00  9.34657076e+00\n",
      "  -8.26744655e-01  4.15177474e+01  2.87954628e+01  1.22960276e+01\n",
      "   9.84593955e+00 -1.55961332e+01  9.85736346e+00]\n",
      " [ 3.76376310e+02  8.81163629e+01  1.64072897e+00 -5.78630021e-01\n",
      "  -4.99709610e-01  8.06556649e-02 -9.85190859e-01 -5.25397768e-01\n",
      "   1.01121591e+00  2.93608296e-01  1.14948589e+00]]\n",
      "Covariances:\n",
      " [[[ 2.15661475e+04 -3.80264209e+03  2.18372091e+01 ... -9.48093801e+00\n",
      "   -3.53903311e+00  5.92959749e+00]\n",
      "  [-3.80264209e+03  5.39986543e+04 -3.40177200e+01 ... -2.65431189e+01\n",
      "    1.13214928e+01  1.66200687e+00]\n",
      "  [ 2.18372091e+01 -3.40177200e+01  1.92345714e+00 ... -1.65004143e-01\n",
      "    6.88573049e-02  1.01121658e-01]\n",
      "  ...\n",
      "  [-9.48093801e+00 -2.65431189e+01 -1.65004143e-01 ...  4.97384932e-01\n",
      "   -1.42117015e-01 -1.41592664e-02]\n",
      "  [-3.53903311e+00  1.13214928e+01  6.88573049e-02 ... -1.42117015e-01\n",
      "    6.83921371e-01 -1.98254416e-01]\n",
      "  [ 5.92959749e+00  1.66200687e+00  1.01121658e-01 ... -1.41592664e-02\n",
      "   -1.98254416e-01  1.14146707e+00]]\n",
      "\n",
      " [[ 1.92185899e+04 -3.43445018e+02  7.45085015e+01 ... -1.15059674e+01\n",
      "    1.02240633e+00  2.32835975e+01]\n",
      "  [-3.43445018e+02  2.84391457e+04 -7.39658805e+00 ... -2.32731775e+01\n",
      "    2.32919079e+00  4.03544586e+00]\n",
      "  [ 7.45085015e+01 -7.39658805e+00  1.37330158e+00 ... -9.92267645e-02\n",
      "    9.91268231e-02  2.03694491e-01]\n",
      "  ...\n",
      "  [-1.15059674e+01 -2.32731775e+01 -9.92267645e-02 ...  3.81895007e-01\n",
      "   -5.30613274e-02 -9.03298888e-02]\n",
      "  [ 1.02240633e+00  2.32919079e+00  9.91268231e-02 ... -5.30613274e-02\n",
      "    5.56615245e-01 -2.07931995e-01]\n",
      "  [ 2.32835975e+01  4.03544586e+00  2.03694491e-01 ... -9.03298888e-02\n",
      "   -2.07931995e-01  1.10259237e+00]]\n",
      "\n",
      " [[ 1.62762388e+04 -7.89302227e+03  1.74152866e+01 ...  2.98002897e+00\n",
      "   -1.03336365e+01 -3.86057388e+00]\n",
      "  [-7.89302227e+03  1.04811443e+05 -6.29280166e+01 ... -1.35838366e+01\n",
      "    5.92013490e+00 -5.07127666e+00]\n",
      "  [ 1.74152866e+01 -6.29280166e+01  2.61025560e+00 ... -2.11937942e-01\n",
      "    6.47218755e-02  1.16206480e-01]\n",
      "  ...\n",
      "  [ 2.98002897e+00 -1.35838366e+01 -2.11937942e-01 ...  8.49767735e-01\n",
      "    5.94152517e-01 -2.28733230e-01]\n",
      "  [-1.03336365e+01  5.92013490e+00  6.47218755e-02 ...  5.94152517e-01\n",
      "    1.43009039e+00 -4.16704137e-01]\n",
      "  [-3.86057388e+00 -5.07127666e+00  1.16206480e-01 ... -2.28733230e-01\n",
      "   -4.16704137e-01  7.72491248e-01]]\n",
      "\n",
      " ...\n",
      "\n",
      " [[ 5.22554463e+01 -1.22205715e+01 -4.90246608e-01 ... -2.98618295e+00\n",
      "    3.24731364e+00  3.26303562e+00]\n",
      "  [-1.22205715e+01  4.25747359e+00  1.16431380e-02 ...  5.11042512e-01\n",
      "   -4.10217764e-01 -7.67686544e-01]\n",
      "  [-4.90246608e-01  1.16431380e-02  3.13617492e-02 ...  7.30448777e-02\n",
      "   -7.79776922e-02 -6.32703022e-02]\n",
      "  ...\n",
      "  [-2.98618295e+00  5.11042512e-01  7.30448777e-02 ...  2.49158433e-01\n",
      "   -2.65813668e-01 -2.44226154e-01]\n",
      "  [ 3.24731364e+00 -4.10217764e-01 -7.79776922e-02 ... -2.65813668e-01\n",
      "    3.32722003e-01  2.52708859e-01]\n",
      "  [ 3.26303562e+00 -7.67686544e-01 -6.32703022e-02 ... -2.44226154e-01\n",
      "    2.52708859e-01  2.90511731e-01]]\n",
      "\n",
      " [[ 6.00538608e+03  1.04862806e+04  1.05346901e+02 ...  7.63005435e+02\n",
      "   -1.20861339e+03  7.63890724e+02]\n",
      "  [ 1.04862806e+04  1.83105766e+04  1.83951067e+02 ...  1.33231886e+03\n",
      "   -2.11041540e+03  1.33386470e+03]\n",
      "  [ 1.05346901e+02  1.83951067e+02  1.84800369e+00 ...  1.33846946e+01\n",
      "   -2.12015805e+01  1.34002244e+01]\n",
      "  ...\n",
      "  [ 7.63005435e+02  1.33231886e+03  1.33846946e+01 ...  9.69425266e+01\n",
      "   -1.53558585e+02  9.70550048e+01]\n",
      "  [-1.20861339e+03 -2.11041540e+03 -2.12015805e+01 ... -1.53558585e+02\n",
      "    2.43239373e+02 -1.53736754e+02]\n",
      "  [ 7.63890724e+02  1.33386470e+03  1.34002244e+01 ...  9.70550048e+01\n",
      "   -1.53736754e+02  9.71676155e+01]]\n",
      "\n",
      " [[ 2.23918347e+00 -2.30665441e+00 -1.26750736e-01 ... -6.08707753e-02\n",
      "   -4.25654669e-01  6.68093420e-01]\n",
      "  [-2.30665441e+00  4.00871461e+00  1.43871897e-01 ...  4.50294711e-01\n",
      "    1.43328968e+00 -9.85141369e-01]\n",
      "  [-1.26750736e-01  1.43871897e-01  7.34923222e-03 ...  9.08680354e-03\n",
      "    3.77837863e-02 -3.93095161e-02]\n",
      "  ...\n",
      "  [-6.08707753e-02  4.50294711e-01  9.08680354e-03 ...  1.88502593e-01\n",
      "    4.60986243e-01 -5.32259737e-02]\n",
      "  [-4.25654669e-01  1.43328968e+00  3.77837863e-02 ...  4.60986243e-01\n",
      "    1.16659789e+00 -2.28264630e-01]\n",
      "  [ 6.68093420e-01 -9.85141369e-01 -3.93095161e-02 ... -5.32259737e-02\n",
      "   -2.28264630e-01  2.66573328e-01]]]\n",
      "Weights:\n",
      " [[2.29819251e-01 3.71610950e-01 8.47152759e-02 1.25076775e-01\n",
      "  4.64157234e-02 2.89549882e-03 5.81293323e-03 1.81188032e-02\n",
      "  8.75230324e-03 2.93937001e-03 4.91357375e-03 5.98841800e-03\n",
      "  1.85355795e-02 2.32517329e-03 7.89681495e-04 1.04852154e-02\n",
      "  3.53163113e-03 1.31613583e-04 1.71097657e-03 2.76388523e-03\n",
      "  1.00903747e-03 1.86452575e-02 5.87874002e-03 6.82197069e-03\n",
      "  3.77292270e-03 7.01939107e-04 6.36132316e-04 2.25936650e-03\n",
      "  2.19355971e-04 9.21295078e-04 6.97551987e-03 3.11485479e-03\n",
      "  3.07098359e-04 6.58067913e-04 4.16776345e-04 2.19355971e-04\n",
      "  2.19355971e-05 8.77423883e-05]]\n"
     ]
    }
   ],
   "source": [
    "\n",
    "\n",
    "\n",
    "data = combined_array  \n",
    "\n",
    "\n",
    "features = data\n",
    "\n",
    "\n",
    "unique_labels = np.unique(labels)\n",
    "\n",
    "means = np.zeros((len(unique_labels), features.shape[1]))\n",
    "covariances = np.zeros((len(unique_labels), features.shape[1], features.shape[1]))\n",
    "weights = np.zeros(len(unique_labels))\n",
    "\n",
    "\n",
    "epsilon = 1e-6\n",
    "\n",
    "for i, label in enumerate(unique_labels):\n",
    "\n",
    "    label_data = features[labels == label]\n",
    "    \n",
    "\n",
    "    mean = np.mean(label_data, axis=0)\n",
    "    means[i, :] = mean\n",
    "    \n",
    "\n",
    "    if label_data.shape[0] > 1:\n",
    "        covariance = np.cov(label_data, rowvar=False)\n",
    "    else:\n",
    "       \n",
    "        covariance = np.outer(label_data, label_data)\n",
    "\n",
    "    if covariance.ndim == 0:\n",
    "        covariance = np.array([[covariance]])\n",
    "    elif covariance.ndim == 1:\n",
    "        covariance = np.diag(covariance)\n",
    "    \n",
    "\n",
    "    covariance += epsilon * np.eye(covariance.shape[0])\n",
    "    \n",
    "    covariances[i, :, :] = covariance\n",
    "    \n",
    "\n",
    "    weight = label_data.shape[0] / features.shape[0]\n",
    "    weights[i] = weight\n",
    "\n",
    "\n",
    "weights = weights.reshape(1, -1)\n",
    "\n",
    "# Print results\n",
    "print(\"Means:\\n\", means)\n",
    "print(\"Covariances:\\n\", covariances)\n",
    "print(\"Weights:\\n\", weights)\n"
   ]
  },
  {
   "cell_type": "code",
   "execution_count": 100,
   "id": "f25b1032",
   "metadata": {},
   "outputs": [],
   "source": [
    "np.save('../GMM/moseq2s_means.npy', means)\n",
    "np.save('../GMM/moseq2s_covars.npy', covariances)\n",
    "np.save('../GMM/moseq2s_weights.npy', weights)"
   ]
  },
  {
   "cell_type": "code",
   "execution_count": 94,
   "id": "ad31f84d",
   "metadata": {},
   "outputs": [
    {
     "data": {
      "text/plain": [
       "(11, 11)"
      ]
     },
     "execution_count": 94,
     "metadata": {},
     "output_type": "execute_result"
    }
   ],
   "source": [
    "covariances[0].shape"
   ]
  },
  {
   "cell_type": "code",
   "execution_count": 83,
   "id": "0380476e",
   "metadata": {},
   "outputs": [],
   "source": [
    "ww = np.load('../GMM/moseq2s_weights.npy')"
   ]
  },
  {
   "cell_type": "code",
   "execution_count": 84,
   "id": "48e181c8",
   "metadata": {},
   "outputs": [
    {
     "data": {
      "text/plain": [
       "(1, 38)"
      ]
     },
     "execution_count": 84,
     "metadata": {},
     "output_type": "execute_result"
    }
   ],
   "source": [
    "ww.shape"
   ]
  },
  {
   "cell_type": "code",
   "execution_count": 2,
   "id": "8588634f",
   "metadata": {},
   "outputs": [],
   "source": [
    "seg_word = np.load('../Results/moseq1/moseq1s_condition_0_seg_words.npy')"
   ]
  },
  {
   "cell_type": "code",
   "execution_count": 3,
   "id": "52a3863c",
   "metadata": {},
   "outputs": [
    {
     "data": {
      "text/plain": [
       "array([54, 26, 10, ...,  8,  8,  8])"
      ]
     },
     "execution_count": 3,
     "metadata": {},
     "output_type": "execute_result"
    }
   ],
   "source": [
    "seg_word"
   ]
  },
  {
   "cell_type": "code",
   "execution_count": 4,
   "id": "5424daba",
   "metadata": {},
   "outputs": [],
   "source": [
    "x = np.load('../Data/moseq1s_dataset_condition0.npy')"
   ]
  },
  {
   "cell_type": "code",
   "execution_count": 5,
   "id": "797dd7ef",
   "metadata": {},
   "outputs": [
    {
     "data": {
      "text/plain": [
       "(2000, 12)"
      ]
     },
     "execution_count": 5,
     "metadata": {},
     "output_type": "execute_result"
    }
   ],
   "source": [
    "x.shape"
   ]
  },
  {
   "cell_type": "markdown",
   "id": "af4e9093",
   "metadata": {},
   "source": [
    "### Things to do:\n",
    "\n",
    "\n",
    "- Write to Luigi about: position as data for GMM, GMM on multiple condictions (on teams)\n",
    "- Train model on Syllables rather than GMM\n",
    "- Polish notebook and upload it on git\n",
    "- Write to them to ask for clarification about the model and maybe a meeting\n",
    "- Study model for better implementation \n"
   ]
  },
  {
   "cell_type": "code",
   "execution_count": 7,
   "id": "9cc10f6b",
   "metadata": {},
   "outputs": [],
   "source": [
    "import pandas as pd"
   ]
  },
  {
   "cell_type": "code",
   "execution_count": 8,
   "id": "7e28df1f",
   "metadata": {},
   "outputs": [],
   "source": [
    "dicts = pd.read_csv('../Results/moseq1/moseq1s_condition_0/BASS_dictionary.csv')"
   ]
  },
  {
   "cell_type": "code",
   "execution_count": 9,
   "id": "e76765b3",
   "metadata": {
    "scrolled": true
   },
   "outputs": [
    {
     "data": {
      "text/html": [
       "<div>\n",
       "<style scoped>\n",
       "    .dataframe tbody tr th:only-of-type {\n",
       "        vertical-align: middle;\n",
       "    }\n",
       "\n",
       "    .dataframe tbody tr th {\n",
       "        vertical-align: top;\n",
       "    }\n",
       "\n",
       "    .dataframe thead th {\n",
       "        text-align: right;\n",
       "    }\n",
       "</style>\n",
       "<table border=\"1\" class=\"dataframe\">\n",
       "  <thead>\n",
       "    <tr style=\"text-align: right;\">\n",
       "      <th></th>\n",
       "      <th>Probability</th>\n",
       "      <th>Number of occurrences</th>\n",
       "      <th>Sequences</th>\n",
       "    </tr>\n",
       "  </thead>\n",
       "  <tbody>\n",
       "    <tr>\n",
       "      <th>0</th>\n",
       "      <td>0.097915</td>\n",
       "      <td>113</td>\n",
       "      <td>['22', '22', '22', '22', '22', '22', '22', '22...</td>\n",
       "    </tr>\n",
       "    <tr>\n",
       "      <th>1</th>\n",
       "      <td>0.056044</td>\n",
       "      <td>65</td>\n",
       "      <td>['12', '12', '12', '12', '12', '12', '12', '12...</td>\n",
       "    </tr>\n",
       "    <tr>\n",
       "      <th>2</th>\n",
       "      <td>0.053957</td>\n",
       "      <td>62</td>\n",
       "      <td>['4', '4', '4', '4', '4', '4', '4', '4', '4', ...</td>\n",
       "    </tr>\n",
       "    <tr>\n",
       "      <th>3</th>\n",
       "      <td>0.041220</td>\n",
       "      <td>47</td>\n",
       "      <td>['20', '20', '20', '20', '20', '20', '20', '20...</td>\n",
       "    </tr>\n",
       "    <tr>\n",
       "      <th>4</th>\n",
       "      <td>0.037821</td>\n",
       "      <td>44</td>\n",
       "      <td>['13', '13', '13', '13', '13', '13', '13', '13...</td>\n",
       "    </tr>\n",
       "    <tr>\n",
       "      <th>5</th>\n",
       "      <td>0.037432</td>\n",
       "      <td>43</td>\n",
       "      <td>['24', '24', '24', '24', '24', '24', '24', '24...</td>\n",
       "    </tr>\n",
       "    <tr>\n",
       "      <th>6</th>\n",
       "      <td>0.037197</td>\n",
       "      <td>43</td>\n",
       "      <td>['22', '22', '22', '22']</td>\n",
       "    </tr>\n",
       "    <tr>\n",
       "      <th>7</th>\n",
       "      <td>0.032778</td>\n",
       "      <td>38</td>\n",
       "      <td>['22', '22', '22', '22', '22', '22', '22', '22...</td>\n",
       "    </tr>\n",
       "    <tr>\n",
       "      <th>8</th>\n",
       "      <td>0.030427</td>\n",
       "      <td>35</td>\n",
       "      <td>['6', '6', '6', '6', '6', '6', '6', '6', '6', ...</td>\n",
       "    </tr>\n",
       "    <tr>\n",
       "      <th>9</th>\n",
       "      <td>0.026989</td>\n",
       "      <td>31</td>\n",
       "      <td>['0', '0', '0', '0', '0', '0', '0', '0', '0', ...</td>\n",
       "    </tr>\n",
       "    <tr>\n",
       "      <th>10</th>\n",
       "      <td>0.024808</td>\n",
       "      <td>28</td>\n",
       "      <td>['23', '23', '23', '23']</td>\n",
       "    </tr>\n",
       "    <tr>\n",
       "      <th>11</th>\n",
       "      <td>0.023086</td>\n",
       "      <td>26</td>\n",
       "      <td>['2', '2', '2', '2', '2', '2', '2', '2', '2', ...</td>\n",
       "    </tr>\n",
       "    <tr>\n",
       "      <th>12</th>\n",
       "      <td>0.019662</td>\n",
       "      <td>22</td>\n",
       "      <td>['11', '11', '11', '11']</td>\n",
       "    </tr>\n",
       "    <tr>\n",
       "      <th>13</th>\n",
       "      <td>0.019603</td>\n",
       "      <td>22</td>\n",
       "      <td>['8', '8', '8', '8', '8', '8', '8', '8', '8', ...</td>\n",
       "    </tr>\n",
       "    <tr>\n",
       "      <th>14</th>\n",
       "      <td>0.017453</td>\n",
       "      <td>20</td>\n",
       "      <td>['0', '0', '0', '0']</td>\n",
       "    </tr>\n",
       "    <tr>\n",
       "      <th>15</th>\n",
       "      <td>0.017119</td>\n",
       "      <td>19</td>\n",
       "      <td>['21', '21', '21', '21']</td>\n",
       "    </tr>\n",
       "    <tr>\n",
       "      <th>16</th>\n",
       "      <td>0.017059</td>\n",
       "      <td>19</td>\n",
       "      <td>['0', '0', '0', '0', '0', '0', '0', '0']</td>\n",
       "    </tr>\n",
       "    <tr>\n",
       "      <th>17</th>\n",
       "      <td>0.017017</td>\n",
       "      <td>19</td>\n",
       "      <td>['10', '10', '10', '10', '10', '10', '10', '10...</td>\n",
       "    </tr>\n",
       "    <tr>\n",
       "      <th>18</th>\n",
       "      <td>0.016823</td>\n",
       "      <td>19</td>\n",
       "      <td>['22', '22', '22', '22', '22', '22', '22', '22']</td>\n",
       "    </tr>\n",
       "    <tr>\n",
       "      <th>19</th>\n",
       "      <td>0.016234</td>\n",
       "      <td>18</td>\n",
       "      <td>['25', '25', '25', '25']</td>\n",
       "    </tr>\n",
       "    <tr>\n",
       "      <th>20</th>\n",
       "      <td>0.015818</td>\n",
       "      <td>18</td>\n",
       "      <td>['7', '7', '7', '7', '7', '7', '7', '7']</td>\n",
       "    </tr>\n",
       "    <tr>\n",
       "      <th>21</th>\n",
       "      <td>0.015748</td>\n",
       "      <td>18</td>\n",
       "      <td>['16', '16', '16', '16']</td>\n",
       "    </tr>\n",
       "    <tr>\n",
       "      <th>22</th>\n",
       "      <td>0.014918</td>\n",
       "      <td>17</td>\n",
       "      <td>['2', '2', '2', '2', '2', '2', '2', '2', '2', ...</td>\n",
       "    </tr>\n",
       "    <tr>\n",
       "      <th>23</th>\n",
       "      <td>0.014595</td>\n",
       "      <td>16</td>\n",
       "      <td>['18', '18', '18', '18', '18', '18', '18', '18']</td>\n",
       "    </tr>\n",
       "    <tr>\n",
       "      <th>24</th>\n",
       "      <td>0.013271</td>\n",
       "      <td>15</td>\n",
       "      <td>['9', '9', '9', '9', '9', '9', '9', '9', '9', ...</td>\n",
       "    </tr>\n",
       "    <tr>\n",
       "      <th>25</th>\n",
       "      <td>0.012884</td>\n",
       "      <td>15</td>\n",
       "      <td>['8', '8', '8', '8']</td>\n",
       "    </tr>\n",
       "    <tr>\n",
       "      <th>26</th>\n",
       "      <td>0.012083</td>\n",
       "      <td>14</td>\n",
       "      <td>['14', '14', '14', '14']</td>\n",
       "    </tr>\n",
       "    <tr>\n",
       "      <th>27</th>\n",
       "      <td>0.011971</td>\n",
       "      <td>13</td>\n",
       "      <td>['3', '3', '3', '3', '3', '3', '3', '3', '3', ...</td>\n",
       "    </tr>\n",
       "    <tr>\n",
       "      <th>28</th>\n",
       "      <td>0.011714</td>\n",
       "      <td>13</td>\n",
       "      <td>['3']</td>\n",
       "    </tr>\n",
       "    <tr>\n",
       "      <th>29</th>\n",
       "      <td>0.011406</td>\n",
       "      <td>13</td>\n",
       "      <td>['2']</td>\n",
       "    </tr>\n",
       "    <tr>\n",
       "      <th>30</th>\n",
       "      <td>0.011308</td>\n",
       "      <td>13</td>\n",
       "      <td>['23']</td>\n",
       "    </tr>\n",
       "    <tr>\n",
       "      <th>31</th>\n",
       "      <td>0.011139</td>\n",
       "      <td>12</td>\n",
       "      <td>['5', '5', '5', '5', '5', '5', '5', '5', '5', ...</td>\n",
       "    </tr>\n",
       "    <tr>\n",
       "      <th>32</th>\n",
       "      <td>0.010934</td>\n",
       "      <td>12</td>\n",
       "      <td>['3', '3', '3', '3', '3', '3', '3', '3', '3', ...</td>\n",
       "    </tr>\n",
       "    <tr>\n",
       "      <th>33</th>\n",
       "      <td>0.010477</td>\n",
       "      <td>12</td>\n",
       "      <td>['20']</td>\n",
       "    </tr>\n",
       "    <tr>\n",
       "      <th>34</th>\n",
       "      <td>0.010345</td>\n",
       "      <td>12</td>\n",
       "      <td>['9', '9', '9', '9', '9', '9', '9', '9']</td>\n",
       "    </tr>\n",
       "    <tr>\n",
       "      <th>35</th>\n",
       "      <td>0.010289</td>\n",
       "      <td>11</td>\n",
       "      <td>['20', '20', '20', '20']</td>\n",
       "    </tr>\n",
       "    <tr>\n",
       "      <th>36</th>\n",
       "      <td>0.009641</td>\n",
       "      <td>11</td>\n",
       "      <td>['12', '12', '12', '12', '12', '12', '12', '12']</td>\n",
       "    </tr>\n",
       "    <tr>\n",
       "      <th>37</th>\n",
       "      <td>0.009377</td>\n",
       "      <td>10</td>\n",
       "      <td>['13']</td>\n",
       "    </tr>\n",
       "    <tr>\n",
       "      <th>38</th>\n",
       "      <td>0.008894</td>\n",
       "      <td>10</td>\n",
       "      <td>['2', '2', '2', '2', '2', '2', '2', '2']</td>\n",
       "    </tr>\n",
       "    <tr>\n",
       "      <th>39</th>\n",
       "      <td>0.008890</td>\n",
       "      <td>10</td>\n",
       "      <td>['20', '20', '20', '20', '20', '20', '20', '20']</td>\n",
       "    </tr>\n",
       "    <tr>\n",
       "      <th>40</th>\n",
       "      <td>0.008636</td>\n",
       "      <td>10</td>\n",
       "      <td>['9', '9']</td>\n",
       "    </tr>\n",
       "    <tr>\n",
       "      <th>41</th>\n",
       "      <td>0.008559</td>\n",
       "      <td>9</td>\n",
       "      <td>['15', '15']</td>\n",
       "    </tr>\n",
       "    <tr>\n",
       "      <th>42</th>\n",
       "      <td>0.008548</td>\n",
       "      <td>9</td>\n",
       "      <td>['9', '9', '9', '9']</td>\n",
       "    </tr>\n",
       "    <tr>\n",
       "      <th>43</th>\n",
       "      <td>0.008546</td>\n",
       "      <td>9</td>\n",
       "      <td>['5', '5', '5', '5', '5', '5', '5', '5']</td>\n",
       "    </tr>\n",
       "    <tr>\n",
       "      <th>44</th>\n",
       "      <td>0.008398</td>\n",
       "      <td>9</td>\n",
       "      <td>['4', '4', '4', '4', '4', '4', '4', '4']</td>\n",
       "    </tr>\n",
       "    <tr>\n",
       "      <th>45</th>\n",
       "      <td>0.008318</td>\n",
       "      <td>9</td>\n",
       "      <td>['24', '24', '24', '24', '24', '24', '24', '24...</td>\n",
       "    </tr>\n",
       "    <tr>\n",
       "      <th>46</th>\n",
       "      <td>0.007849</td>\n",
       "      <td>9</td>\n",
       "      <td>['21']</td>\n",
       "    </tr>\n",
       "    <tr>\n",
       "      <th>47</th>\n",
       "      <td>0.007717</td>\n",
       "      <td>8</td>\n",
       "      <td>['7']</td>\n",
       "    </tr>\n",
       "    <tr>\n",
       "      <th>48</th>\n",
       "      <td>0.007704</td>\n",
       "      <td>8</td>\n",
       "      <td>['19', '19', '19', '19']</td>\n",
       "    </tr>\n",
       "    <tr>\n",
       "      <th>49</th>\n",
       "      <td>0.007489</td>\n",
       "      <td>8</td>\n",
       "      <td>['10', '10']</td>\n",
       "    </tr>\n",
       "    <tr>\n",
       "      <th>50</th>\n",
       "      <td>0.007352</td>\n",
       "      <td>8</td>\n",
       "      <td>['18', '18']</td>\n",
       "    </tr>\n",
       "    <tr>\n",
       "      <th>51</th>\n",
       "      <td>0.007307</td>\n",
       "      <td>8</td>\n",
       "      <td>['16', '16', '16', '16', '16', '16', '16', '16...</td>\n",
       "    </tr>\n",
       "    <tr>\n",
       "      <th>52</th>\n",
       "      <td>0.007306</td>\n",
       "      <td>8</td>\n",
       "      <td>['12', '12', '12', '12']</td>\n",
       "    </tr>\n",
       "    <tr>\n",
       "      <th>53</th>\n",
       "      <td>0.007151</td>\n",
       "      <td>8</td>\n",
       "      <td>['1']</td>\n",
       "    </tr>\n",
       "    <tr>\n",
       "      <th>54</th>\n",
       "      <td>0.006814</td>\n",
       "      <td>7</td>\n",
       "      <td>['25']</td>\n",
       "    </tr>\n",
       "    <tr>\n",
       "      <th>55</th>\n",
       "      <td>0.005960</td>\n",
       "      <td>6</td>\n",
       "      <td>['24', '24', '24', '24', '24', '24', '24', '24']</td>\n",
       "    </tr>\n",
       "  </tbody>\n",
       "</table>\n",
       "</div>"
      ],
      "text/plain": [
       "    Probability  Number of occurrences  \\\n",
       "0      0.097915                    113   \n",
       "1      0.056044                     65   \n",
       "2      0.053957                     62   \n",
       "3      0.041220                     47   \n",
       "4      0.037821                     44   \n",
       "5      0.037432                     43   \n",
       "6      0.037197                     43   \n",
       "7      0.032778                     38   \n",
       "8      0.030427                     35   \n",
       "9      0.026989                     31   \n",
       "10     0.024808                     28   \n",
       "11     0.023086                     26   \n",
       "12     0.019662                     22   \n",
       "13     0.019603                     22   \n",
       "14     0.017453                     20   \n",
       "15     0.017119                     19   \n",
       "16     0.017059                     19   \n",
       "17     0.017017                     19   \n",
       "18     0.016823                     19   \n",
       "19     0.016234                     18   \n",
       "20     0.015818                     18   \n",
       "21     0.015748                     18   \n",
       "22     0.014918                     17   \n",
       "23     0.014595                     16   \n",
       "24     0.013271                     15   \n",
       "25     0.012884                     15   \n",
       "26     0.012083                     14   \n",
       "27     0.011971                     13   \n",
       "28     0.011714                     13   \n",
       "29     0.011406                     13   \n",
       "30     0.011308                     13   \n",
       "31     0.011139                     12   \n",
       "32     0.010934                     12   \n",
       "33     0.010477                     12   \n",
       "34     0.010345                     12   \n",
       "35     0.010289                     11   \n",
       "36     0.009641                     11   \n",
       "37     0.009377                     10   \n",
       "38     0.008894                     10   \n",
       "39     0.008890                     10   \n",
       "40     0.008636                     10   \n",
       "41     0.008559                      9   \n",
       "42     0.008548                      9   \n",
       "43     0.008546                      9   \n",
       "44     0.008398                      9   \n",
       "45     0.008318                      9   \n",
       "46     0.007849                      9   \n",
       "47     0.007717                      8   \n",
       "48     0.007704                      8   \n",
       "49     0.007489                      8   \n",
       "50     0.007352                      8   \n",
       "51     0.007307                      8   \n",
       "52     0.007306                      8   \n",
       "53     0.007151                      8   \n",
       "54     0.006814                      7   \n",
       "55     0.005960                      6   \n",
       "\n",
       "                                            Sequences  \n",
       "0   ['22', '22', '22', '22', '22', '22', '22', '22...  \n",
       "1   ['12', '12', '12', '12', '12', '12', '12', '12...  \n",
       "2   ['4', '4', '4', '4', '4', '4', '4', '4', '4', ...  \n",
       "3   ['20', '20', '20', '20', '20', '20', '20', '20...  \n",
       "4   ['13', '13', '13', '13', '13', '13', '13', '13...  \n",
       "5   ['24', '24', '24', '24', '24', '24', '24', '24...  \n",
       "6                            ['22', '22', '22', '22']  \n",
       "7   ['22', '22', '22', '22', '22', '22', '22', '22...  \n",
       "8   ['6', '6', '6', '6', '6', '6', '6', '6', '6', ...  \n",
       "9   ['0', '0', '0', '0', '0', '0', '0', '0', '0', ...  \n",
       "10                           ['23', '23', '23', '23']  \n",
       "11  ['2', '2', '2', '2', '2', '2', '2', '2', '2', ...  \n",
       "12                           ['11', '11', '11', '11']  \n",
       "13  ['8', '8', '8', '8', '8', '8', '8', '8', '8', ...  \n",
       "14                               ['0', '0', '0', '0']  \n",
       "15                           ['21', '21', '21', '21']  \n",
       "16           ['0', '0', '0', '0', '0', '0', '0', '0']  \n",
       "17  ['10', '10', '10', '10', '10', '10', '10', '10...  \n",
       "18   ['22', '22', '22', '22', '22', '22', '22', '22']  \n",
       "19                           ['25', '25', '25', '25']  \n",
       "20           ['7', '7', '7', '7', '7', '7', '7', '7']  \n",
       "21                           ['16', '16', '16', '16']  \n",
       "22  ['2', '2', '2', '2', '2', '2', '2', '2', '2', ...  \n",
       "23   ['18', '18', '18', '18', '18', '18', '18', '18']  \n",
       "24  ['9', '9', '9', '9', '9', '9', '9', '9', '9', ...  \n",
       "25                               ['8', '8', '8', '8']  \n",
       "26                           ['14', '14', '14', '14']  \n",
       "27  ['3', '3', '3', '3', '3', '3', '3', '3', '3', ...  \n",
       "28                                              ['3']  \n",
       "29                                              ['2']  \n",
       "30                                             ['23']  \n",
       "31  ['5', '5', '5', '5', '5', '5', '5', '5', '5', ...  \n",
       "32  ['3', '3', '3', '3', '3', '3', '3', '3', '3', ...  \n",
       "33                                             ['20']  \n",
       "34           ['9', '9', '9', '9', '9', '9', '9', '9']  \n",
       "35                           ['20', '20', '20', '20']  \n",
       "36   ['12', '12', '12', '12', '12', '12', '12', '12']  \n",
       "37                                             ['13']  \n",
       "38           ['2', '2', '2', '2', '2', '2', '2', '2']  \n",
       "39   ['20', '20', '20', '20', '20', '20', '20', '20']  \n",
       "40                                         ['9', '9']  \n",
       "41                                       ['15', '15']  \n",
       "42                               ['9', '9', '9', '9']  \n",
       "43           ['5', '5', '5', '5', '5', '5', '5', '5']  \n",
       "44           ['4', '4', '4', '4', '4', '4', '4', '4']  \n",
       "45  ['24', '24', '24', '24', '24', '24', '24', '24...  \n",
       "46                                             ['21']  \n",
       "47                                              ['7']  \n",
       "48                           ['19', '19', '19', '19']  \n",
       "49                                       ['10', '10']  \n",
       "50                                       ['18', '18']  \n",
       "51  ['16', '16', '16', '16', '16', '16', '16', '16...  \n",
       "52                           ['12', '12', '12', '12']  \n",
       "53                                              ['1']  \n",
       "54                                             ['25']  \n",
       "55   ['24', '24', '24', '24', '24', '24', '24', '24']  "
      ]
     },
     "execution_count": 9,
     "metadata": {},
     "output_type": "execute_result"
    }
   ],
   "source": [
    "dicts"
   ]
  },
  {
   "cell_type": "code",
   "execution_count": null,
   "id": "8cab8d6f",
   "metadata": {},
   "outputs": [],
   "source": []
  }
 ],
 "metadata": {
  "kernelspec": {
   "display_name": "bass-iit-env",
   "language": "python",
   "name": "bass-iit-env"
  },
  "language_info": {
   "codemirror_mode": {
    "name": "ipython",
    "version": 3
   },
   "file_extension": ".py",
   "mimetype": "text/x-python",
   "name": "python",
   "nbconvert_exporter": "python",
   "pygments_lexer": "ipython3",
   "version": "3.9.7"
  },
  "varInspector": {
   "cols": {
    "lenName": 16,
    "lenType": 16,
    "lenVar": 40
   },
   "kernels_config": {
    "python": {
     "delete_cmd_postfix": "",
     "delete_cmd_prefix": "del ",
     "library": "var_list.py",
     "varRefreshCmd": "print(var_dic_list())"
    },
    "r": {
     "delete_cmd_postfix": ") ",
     "delete_cmd_prefix": "rm(",
     "library": "var_list.r",
     "varRefreshCmd": "cat(var_dic_list()) "
    }
   },
   "types_to_exclude": [
    "module",
    "function",
    "builtin_function_or_method",
    "instance",
    "_Feature"
   ],
   "window_display": false
  }
 },
 "nbformat": 4,
 "nbformat_minor": 5
}
