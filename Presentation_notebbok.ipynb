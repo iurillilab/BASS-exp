{
 "cells": [
  {
   "cell_type": "markdown",
   "id": "67aa1e6b",
   "metadata": {
    "slideshow": {
     "slide_type": "slide"
    }
   },
   "source": [
    "# Behavioural Action Sequence Segmentation (BASS)"
   ]
  },
  {
   "cell_type": "markdown",
   "id": "e2394a47",
   "metadata": {
    "slideshow": {
     "slide_type": "slide"
    }
   },
   "source": [
    "## Table of Contents:\n",
    "\n",
    "1. Theory and Motivation\n",
    "2. Synthetic Data Example\n",
    "3. How can we use it on our data?"
   ]
  }
 ],
 "metadata": {
  "celltoolbar": "Slideshow",
  "kernelspec": {
   "display_name": "bass-iit-env",
   "language": "python",
   "name": "bass-iit-env"
  },
  "language_info": {
   "codemirror_mode": {
    "name": "ipython",
    "version": 3
   },
   "file_extension": ".py",
   "mimetype": "text/x-python",
   "name": "python",
   "nbconvert_exporter": "python",
   "pygments_lexer": "ipython3",
   "version": "3.9.7"
  }
 },
 "nbformat": 4,
 "nbformat_minor": 5
}
