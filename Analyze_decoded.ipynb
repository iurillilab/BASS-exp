{
 "cells": [
  {
   "cell_type": "code",
   "execution_count": 1,
   "id": "appropriate-preference",
   "metadata": {},
   "outputs": [],
   "source": [
    "import os\n",
    "import time\n",
    "import sys\n",
    "sys.path.append('./BASS/')\n",
    "sys.path.append('./Utils')\n",
    "\n",
    "import numpy as np\n",
    "import pandas as pd\n",
    "import matplotlib.pyplot as plt\n",
    "\n",
    "import bass as md\n",
    "from GMM import GMM_model\n",
    "from save_load_utils import *"
   ]
  },
  {
   "cell_type": "code",
   "execution_count": 2,
   "id": "finished-cooperative",
   "metadata": {},
   "outputs": [],
   "source": [
    "pathData = './Data/'\n",
    "DataName = 'toy'\n",
    "condition = 0\n",
    "\n",
    "pathGMM = './GMM/'\n",
    "GMMName = 'toy'"
   ]
  },
  {
   "cell_type": "code",
   "execution_count": 3,
   "id": "dietary-tonight",
   "metadata": {},
   "outputs": [],
   "source": [
    "dataset = np.load(pathData + DataName + \"_dataset_condition{}.npy\".format(condition))\n",
    "lengths = np.load(pathData + DataName + \"_lengths_condition{}.npy\".format(condition))\n",
    "\n",
    "\n",
    "means_ = np.load(pathGMM + GMMName + '_means.npy')\n",
    "covars_ = np.load(pathGMM + GMMName + '_covars.npy')\n",
    "weights_ = np.load(pathGMM + GMMName + '_weights.npy')\n",
    "\n",
    "model_fit = GMM_model(means_.shape[0])\n",
    "model_fit._read_params(means_,covars_,weights_)"
   ]
  },
  {
   "cell_type": "code",
   "execution_count": 4,
   "id": "amber-twenty",
   "metadata": {},
   "outputs": [],
   "source": [
    "# Load BASS dictionary\n",
    "OutPath = './Results/'\n",
    "Exp = 'toy'\n",
    "\n",
    "Bdict = pd.read_csv(OutPath + DataName + '/' + Exp + '_condition_{}/'.format(condition) + 'Bass_dictionary.csv' )\n",
    "words = np.load(OutPath + DataName + '/' + Exp + '_condition_{}'.format(condition) + '_seg_words.npy')\n",
    "lsums = np.load(OutPath + DataName + '/' + Exp + '_condition_{}'.format(condition) + '_seg_words.npy')"
   ]
  },
  {
   "cell_type": "code",
   "execution_count": 5,
   "id": "bizarre-software",
   "metadata": {},
   "outputs": [],
   "source": [
    "seq = Bdict.to_numpy()\n",
    "\n",
    "# List of unique motifs occuring in the recording decoded\n",
    "unique_motif_n = np.unique(words)\n",
    "unique_motifs = [seq[w,2] for w in unique_motif_n]\n",
    "\n",
    "#Cumultive sum representing the starting and ending index of motifs in the recording (in units of bouts)\n",
    "l_cumsum = np.insert(lsums,0,0)"
   ]
  },
  {
   "cell_type": "code",
   "execution_count": 6,
   "id": "divided-technology",
   "metadata": {},
   "outputs": [],
   "source": [
    "unique_motifs"
   ]
  },
  {
   "cell_type": "code",
   "execution_count": null,
   "id": "4b7e515d-85ed-4904-b132-3c31e5572645",
   "metadata": {},
   "outputs": [],
   "source": [
    "Bdict"
   ]
  }
 ],
 "metadata": {
  "kernelspec": {
   "display_name": "bass-iit-env",
   "language": "python",
   "name": "bass-iit-env"
  },
  "language_info": {
   "codemirror_mode": {
    "name": "ipython",
    "version": 3
   },
   "file_extension": ".py",
   "mimetype": "text/x-python",
   "name": "python",
   "nbconvert_exporter": "python",
   "pygments_lexer": "ipython3",
   "version": "3.9.7"
  },
  "varInspector": {
   "cols": {
    "lenName": 16,
    "lenType": 16,
    "lenVar": 40
   },
   "kernels_config": {
    "python": {
     "delete_cmd_postfix": "",
     "delete_cmd_prefix": "del ",
     "library": "var_list.py",
     "varRefreshCmd": "print(var_dic_list())"
    },
    "r": {
     "delete_cmd_postfix": ") ",
     "delete_cmd_prefix": "rm(",
     "library": "var_list.r",
     "varRefreshCmd": "cat(var_dic_list()) "
    }
   },
   "types_to_exclude": [
    "module",
    "function",
    "builtin_function_or_method",
    "instance",
    "_Feature"
   ],
   "window_display": false
  }
 },
 "nbformat": 4,
 "nbformat_minor": 5
}
