{
 "cells": [
  {
   "cell_type": "code",
   "execution_count": 1,
   "id": "appropriate-preference",
   "metadata": {},
   "outputs": [],
   "source": [
    "import os\n",
    "import time\n",
    "import sys\n",
    "sys.path.append('./BASS/')\n",
    "sys.path.append('./Utils')\n",
    "\n",
    "import numpy as np\n",
    "import pandas as pd\n",
    "import matplotlib.pyplot as plt\n",
    "\n",
    "import bass as md\n",
    "from GMM import GMM_model\n",
    "from save_load_utils import *"
   ]
  },
  {
   "cell_type": "code",
   "execution_count": 30,
   "id": "finished-cooperative",
   "metadata": {},
   "outputs": [],
   "source": [
    "pathData = './Data/'\n",
    "DataName = 'toy'\n",
    "condition = 0\n",
    "\n",
    "pathGMM = './GMM/'\n",
    "GMMName = 'toy'"
   ]
  },
  {
   "cell_type": "code",
   "execution_count": 31,
   "id": "dietary-tonight",
   "metadata": {},
   "outputs": [],
   "source": [
    "dataset = np.load(pathData + DataName + \"_dataset_condition{}.npy\".format(condition))\n",
    "lengths = np.load(pathData + DataName + \"_lengths_condition{}.npy\".format(condition))\n",
    "\n",
    "\n",
    "means_ = np.load(pathGMM + GMMName + '_means.npy')\n",
    "covars_ = np.load(pathGMM + GMMName + '_covars.npy')\n",
    "weights_ = np.load(pathGMM + GMMName + '_weights.npy')\n",
    "\n",
    "model_fit = GMM_model(means_.shape[0])\n",
    "model_fit._read_params(means_,covars_,weights_)"
   ]
  },
  {
   "cell_type": "code",
   "execution_count": 32,
   "id": "amber-twenty",
   "metadata": {},
   "outputs": [],
   "source": [
    "# Load BASS dictionary\n",
    "OutPath = './Results/'\n",
    "Exp = 'toy'\n",
    "\n",
    "Bdict = pd.read_csv(OutPath + DataName + '/' + Exp + '_condition_{}/'.format(condition) + 'Bass_dictionary.csv' )\n",
    "words = np.load(OutPath + DataName + '/' + Exp + '_condition_{}'.format(condition) + '_seg_words.npy')\n",
    "lsums = np.load(OutPath + DataName + '/' + Exp + '_condition_{}'.format(condition) + '_seg_words.npy')"
   ]
  },
  {
   "cell_type": "code",
   "execution_count": 33,
   "id": "bizarre-software",
   "metadata": {},
   "outputs": [],
   "source": [
    "seq = Bdict.to_numpy()\n",
    "\n",
    "# List of unique motifs occuring in the recording decoded\n",
    "unique_motif_n = np.unique(words)\n",
    "unique_motifs = [seq[w,2] for w in unique_motif_n]\n",
    "\n",
    "#Cumultive sum representing the starting and ending index of motifs in the recording (in units of bouts)\n",
    "l_cumsum = np.insert(lsums,0,0)"
   ]
  },
  {
   "cell_type": "code",
   "execution_count": 19,
   "id": "divided-technology",
   "metadata": {},
   "outputs": [
    {
     "data": {
      "text/plain": [
       "[\"['5']\", \"['1']\", \"['2']\", \"['4']\", \"['7']\", \"['6']\", \"['3']\"]"
      ]
     },
     "execution_count": 19,
     "metadata": {},
     "output_type": "execute_result"
    }
   ],
   "source": [
    "unique_motifs"
   ]
  },
  {
   "cell_type": "code",
   "execution_count": 22,
   "id": "4b7e515d-85ed-4904-b132-3c31e5572645",
   "metadata": {},
   "outputs": [
    {
     "data": {
      "text/html": [
       "<div>\n",
       "<style scoped>\n",
       "    .dataframe tbody tr th:only-of-type {\n",
       "        vertical-align: middle;\n",
       "    }\n",
       "\n",
       "    .dataframe tbody tr th {\n",
       "        vertical-align: top;\n",
       "    }\n",
       "\n",
       "    .dataframe thead th {\n",
       "        text-align: right;\n",
       "    }\n",
       "</style>\n",
       "<table border=\"1\" class=\"dataframe\">\n",
       "  <thead>\n",
       "    <tr style=\"text-align: right;\">\n",
       "      <th></th>\n",
       "      <th>Probability</th>\n",
       "      <th>Number of occurences</th>\n",
       "      <th>Sequences</th>\n",
       "    </tr>\n",
       "  </thead>\n",
       "  <tbody>\n",
       "    <tr>\n",
       "      <th>0</th>\n",
       "      <td>0.186862</td>\n",
       "      <td>934</td>\n",
       "      <td>['5']</td>\n",
       "    </tr>\n",
       "    <tr>\n",
       "      <th>1</th>\n",
       "      <td>0.180705</td>\n",
       "      <td>903</td>\n",
       "      <td>['1']</td>\n",
       "    </tr>\n",
       "    <tr>\n",
       "      <th>2</th>\n",
       "      <td>0.144951</td>\n",
       "      <td>724</td>\n",
       "      <td>['2']</td>\n",
       "    </tr>\n",
       "    <tr>\n",
       "      <th>3</th>\n",
       "      <td>0.138395</td>\n",
       "      <td>691</td>\n",
       "      <td>['4']</td>\n",
       "    </tr>\n",
       "    <tr>\n",
       "      <th>4</th>\n",
       "      <td>0.135178</td>\n",
       "      <td>675</td>\n",
       "      <td>['7']</td>\n",
       "    </tr>\n",
       "    <tr>\n",
       "      <th>5</th>\n",
       "      <td>0.121369</td>\n",
       "      <td>606</td>\n",
       "      <td>['6']</td>\n",
       "    </tr>\n",
       "    <tr>\n",
       "      <th>6</th>\n",
       "      <td>0.092539</td>\n",
       "      <td>462</td>\n",
       "      <td>['3']</td>\n",
       "    </tr>\n",
       "  </tbody>\n",
       "</table>\n",
       "</div>"
      ],
      "text/plain": [
       "   Probability  Number of occurences Sequences\n",
       "0     0.186862                   934     ['5']\n",
       "1     0.180705                   903     ['1']\n",
       "2     0.144951                   724     ['2']\n",
       "3     0.138395                   691     ['4']\n",
       "4     0.135178                   675     ['7']\n",
       "5     0.121369                   606     ['6']\n",
       "6     0.092539                   462     ['3']"
      ]
     },
     "execution_count": 22,
     "metadata": {},
     "output_type": "execute_result"
    }
   ],
   "source": [
    "Bdict"
   ]
  },
  {
   "cell_type": "code",
   "execution_count": 23,
   "id": "3e1d50dd-6e8a-49fc-a297-6f213225c4bc",
   "metadata": {},
   "outputs": [
    {
     "data": {
      "text/plain": [
       "array([2, 1, 1, ..., 2, 1, 4])"
      ]
     },
     "execution_count": 23,
     "metadata": {},
     "output_type": "execute_result"
    }
   ],
   "source": [
    "words"
   ]
  }
 ],
 "metadata": {
  "kernelspec": {
   "display_name": "Python 3 (ipykernel)",
   "language": "python",
   "name": "python3"
  },
  "language_info": {
   "codemirror_mode": {
    "name": "ipython",
    "version": 3
   },
   "file_extension": ".py",
   "mimetype": "text/x-python",
   "name": "python",
   "nbconvert_exporter": "python",
   "pygments_lexer": "ipython3",
   "version": "3.9.19"
  }
 },
 "nbformat": 4,
 "nbformat_minor": 5
}
